{
  "nbformat": 4,
  "nbformat_minor": 0,
  "metadata": {
    "colab": {
      "name": "P1t1_basic_concepts.ipynb",
      "provenance": [],
      "collapsed_sections": []
    },
    "kernelspec": {
      "name": "python3",
      "display_name": "Python 3"
    }
  },
  "cells": [
    {
      "cell_type": "code",
      "metadata": {
        "colab": {
          "base_uri": "https://localhost:8080/"
        },
        "id": "BXXLQGnq3tCL",
        "outputId": "f2aaf5bd-5ac0-43c1-978d-23997e7a6973"
      },
      "source": [
        "print(\"hola\")"
      ],
      "execution_count": null,
      "outputs": [
        {
          "output_type": "stream",
          "text": [
            "hola\n"
          ],
          "name": "stdout"
        }
      ]
    },
    {
      "cell_type": "markdown",
      "metadata": {
        "id": "Ne9tIlYi6hs5"
      },
      "source": [
        "# Ejercicio numero suma\r\n",
        "# metodo de programacion normal"
      ]
    },
    {
      "cell_type": "code",
      "metadata": {
        "colab": {
          "base_uri": "https://localhost:8080/"
        },
        "id": "xMZ8-LhO6yjq",
        "outputId": "853250d7-402b-4039-a19c-9a18cdeb80f5"
      },
      "source": [
        "var1=int(input(\"ingrese el valor de la primera variable:\"))\r\n",
        "var2=int(input(\"ingrese el valor de la segunda variable:\"))\r\n",
        "var3=int(input(\"ingrese el valor de la tercera variable:\"))\r\n",
        "if(var1>var2 and var1>var3):\r\n",
        "  print(\"el numero mayor es\"+str(var1))\r\n",
        "elif(var2>var1 and var2>var3):\r\n",
        "  print(\"el numero mayor es\"+str(var2))\r\n",
        "else:\r\n",
        "  print(\"el numero mayor es\"+str(var3))"
      ],
      "execution_count": null,
      "outputs": [
        {
          "output_type": "stream",
          "text": [
            "ingrese el valor de la primera variable:25\n",
            "ingrese el valor de la segunda variable:35\n",
            "ingrese el valor de la tercera variable:37\n",
            "el numero mayor es37\n"
          ],
          "name": "stdout"
        }
      ]
    },
    {
      "cell_type": "markdown",
      "metadata": {
        "id": "Q7-KHuDp8szQ"
      },
      "source": [
        "Metodo python"
      ]
    },
    {
      "cell_type": "code",
      "metadata": {
        "colab": {
          "base_uri": "https://localhost:8080/"
        },
        "id": "tW_D28-S89hQ",
        "outputId": "b9131bf2-6800-47b4-a6b3-f0635bdb02f3"
      },
      "source": [
        "var1,var2,var3=input(\"ingrese los tres numero separados por coma:\").split(\",\")\r\n",
        "print(\"el numero mayor es:\"+str(max(var1,var2,var3)))"
      ],
      "execution_count": null,
      "outputs": [
        {
          "output_type": "stream",
          "text": [
            "ingrese los tres numero separados por coma:25,95,45\n",
            "el numero mayor es:95\n"
          ],
          "name": "stdout"
        }
      ]
    },
    {
      "cell_type": "markdown",
      "metadata": {
        "id": "nxw2fVDA-hZv"
      },
      "source": [
        "Ejercicio 2\r\n",
        "metodo clasico suma\r\n"
      ]
    },
    {
      "cell_type": "code",
      "metadata": {
        "colab": {
          "base_uri": "https://localhost:8080/"
        },
        "id": "vmZ7bAcq-kZb",
        "outputId": "ce920a2e-a14f-4933-f89c-d4bb0e04223c"
      },
      "source": [
        "tot=int(input(\"Ingerse la cantidad de N numeros\"))\r\n",
        "suma=0\r\n",
        "for i in range(0,tot):\r\n",
        "  suma+=int(input(\"ingrese el valor del numero\"+str(i)+\":\"))\r\n",
        "  print(\"el nuemro total es\"+str(suma))"
      ],
      "execution_count": null,
      "outputs": [
        {
          "output_type": "stream",
          "text": [
            "Ingerse la cantidad de N numeros4\n",
            "ingrese el valor del numero0:1\n",
            "el nuemro total es1\n",
            "ingrese el valor del numero1:2\n",
            "el nuemro total es3\n",
            "ingrese el valor del numero2:3\n",
            "el nuemro total es6\n",
            "ingrese el valor del numero3:4\n",
            "el nuemro total es10\n"
          ],
          "name": "stdout"
        }
      ]
    },
    {
      "cell_type": "markdown",
      "metadata": {
        "id": "0JeFA2eICA7_"
      },
      "source": [
        "Metodo python"
      ]
    },
    {
      "cell_type": "code",
      "metadata": {
        "colab": {
          "base_uri": "https://localhost:8080/"
        },
        "id": "c-odQj8JCFNO",
        "outputId": "696579dd-5d63-4fce-f897-4e5d552e551a"
      },
      "source": [
        "suma=0\r\n",
        "for i in range(0, int(input(\"Ingrese la cantidad de N numero:\"))):\r\n",
        "  suma=int(input(\"Ingrese eñ valor del numero\"+str(i)+\":\"))\r\n",
        "  print(\"el total es:\"+str(suma))"
      ],
      "execution_count": null,
      "outputs": [
        {
          "output_type": "stream",
          "text": [
            "Ingrese la cantidad de N numero:4\n",
            "Ingrese eñ valor del numero0:1\n",
            "el total es:1\n",
            "Ingrese eñ valor del numero1:2\n",
            "el total es:2\n",
            "Ingrese eñ valor del numero2:3\n",
            "el total es:3\n",
            "Ingrese eñ valor del numero3:4\n",
            "el total es:4\n"
          ],
          "name": "stdout"
        }
      ]
    },
    {
      "cell_type": "markdown",
      "metadata": {
        "id": "g91Z0E28FTWD"
      },
      "source": [
        "Tercer ejercicio\r\n",
        "metodo clasico\r\n"
      ]
    },
    {
      "cell_type": "code",
      "metadata": {
        "colab": {
          "base_uri": "https://localhost:8080/"
        },
        "id": "z3uCi19hFXMW",
        "outputId": "b80e8480-4747-41ee-b201-b9f8a5ff3d1f"
      },
      "source": [
        "inicio=int(input(\"Número minimo: \"))\r\n",
        "fin=int(input(\"Número final: \"))\r\n",
        "for i in range(inicio,fin):\r\n",
        "  if((i%2)==0):\r\n",
        "    print(\"el nuemro par es:\" + str(i))\r\n",
        "\r\n"
      ],
      "execution_count": null,
      "outputs": [
        {
          "output_type": "stream",
          "text": [
            "Número minimo: 10\n",
            "Número final: 20\n",
            "el nuemro par es:10\n",
            "el nuemro par es:12\n",
            "el nuemro par es:14\n",
            "el nuemro par es:16\n",
            "el nuemro par es:18\n"
          ],
          "name": "stdout"
        }
      ]
    },
    {
      "cell_type": "markdown",
      "metadata": {
        "id": "hadTAj48F3wm"
      },
      "source": [
        "Metodo python"
      ]
    },
    {
      "cell_type": "code",
      "metadata": {
        "colab": {
          "base_uri": "https://localhost:8080/"
        },
        "id": "78x2BwT5F6B7",
        "outputId": "548f09e7-0983-4add-be66-2d2e2ac6ab59"
      },
      "source": [
        "for i in range(int(input(\"numero minimo\")),int(input(\"numero final:\"))):\r\n",
        "  if((i%2)==0): print(\"El numero par es \" + str(i))"
      ],
      "execution_count": null,
      "outputs": [
        {
          "output_type": "stream",
          "text": [
            "numero minimo40\n",
            "numero final:80\n",
            "El numero par es 40\n",
            "El numero par es 42\n",
            "El numero par es 44\n",
            "El numero par es 46\n",
            "El numero par es 48\n",
            "El numero par es 50\n",
            "El numero par es 52\n",
            "El numero par es 54\n",
            "El numero par es 56\n",
            "El numero par es 58\n",
            "El numero par es 60\n",
            "El numero par es 62\n",
            "El numero par es 64\n",
            "El numero par es 66\n",
            "El numero par es 68\n",
            "El numero par es 70\n",
            "El numero par es 72\n",
            "El numero par es 74\n",
            "El numero par es 76\n",
            "El numero par es 78\n"
          ],
          "name": "stdout"
        }
      ]
    },
    {
      "cell_type": "markdown",
      "metadata": {
        "id": "AfkO_IRCHhSN"
      },
      "source": [
        "Cuarto ejercicio metodo clasico"
      ]
    },
    {
      "cell_type": "code",
      "metadata": {
        "colab": {
          "base_uri": "https://localhost:8080/"
        },
        "id": "-gBuJq_fHmny",
        "outputId": "846bf05e-7036-47cc-9c27-e93c40f4868d"
      },
      "source": [
        "rango1=list(range(1,13))\r\n",
        "rango2=list(range(12,0,-1))\r\n",
        "print(rango1+rango2)"
      ],
      "execution_count": null,
      "outputs": [
        {
          "output_type": "stream",
          "text": [
            "[1, 2, 3, 4, 5, 6, 7, 8, 9, 10, 11, 12, 12, 11, 10, 9, 8, 7, 6, 5, 4, 3, 2, 1]\n"
          ],
          "name": "stdout"
        }
      ]
    },
    {
      "cell_type": "markdown",
      "metadata": {
        "id": "U2Gvny7lHstg"
      },
      "source": [
        "Metodo python"
      ]
    },
    {
      "cell_type": "code",
      "metadata": {
        "colab": {
          "base_uri": "https://localhost:8080/"
        },
        "id": "0NFVJidzHvk9",
        "outputId": "b8c67941-59e3-4f0d-e853-b8079e1dba24"
      },
      "source": [
        "lista=list(range(1,12))\r\n",
        "print(lista+lista[::-1])"
      ],
      "execution_count": null,
      "outputs": [
        {
          "output_type": "stream",
          "text": [
            "[1, 2, 3, 4, 5, 6, 7, 8, 9, 10, 11, 11, 10, 9, 8, 7, 6, 5, 4, 3, 2, 1]\n"
          ],
          "name": "stdout"
        }
      ]
    },
    {
      "cell_type": "markdown",
      "metadata": {
        "id": "hcFqFv2yRTRv"
      },
      "source": [
        "Quinto ejercicio\r\n",
        "Metodo clasico"
      ]
    },
    {
      "cell_type": "code",
      "metadata": {
        "colab": {
          "base_uri": "https://localhost:8080/"
        },
        "id": "1FPAEd7bRgU6",
        "outputId": "711d33ff-0ee6-454a-dee7-37530962b9bc"
      },
      "source": [
        "import random\r\n",
        "lista = [random.randrange(100) for i in range(10)]\r\n",
        "print(lista)"
      ],
      "execution_count": 1,
      "outputs": [
        {
          "output_type": "stream",
          "text": [
            "[11, 95, 93, 12, 47, 74, 95, 62, 62, 53]\n"
          ],
          "name": "stdout"
        }
      ]
    },
    {
      "cell_type": "markdown",
      "metadata": {
        "id": "FWGzA7b7Rtcu"
      },
      "source": [
        "Metodo python"
      ]
    },
    {
      "cell_type": "code",
      "metadata": {
        "colab": {
          "base_uri": "https://localhost:8080/"
        },
        "id": "57QqH0Z3RrpA",
        "outputId": "271c5e67-3dc2-4341-c964-a42515dc3175"
      },
      "source": [
        "import random\r\n",
        "for i in range(10): print(random.randrange(100))"
      ],
      "execution_count": 2,
      "outputs": [
        {
          "output_type": "stream",
          "text": [
            "71\n",
            "37\n",
            "88\n",
            "2\n",
            "53\n",
            "96\n",
            "62\n",
            "65\n",
            "40\n",
            "77\n"
          ],
          "name": "stdout"
        }
      ]
    },
    {
      "cell_type": "markdown",
      "metadata": {
        "id": "yvZA0A7gR2Ag"
      },
      "source": [
        "Sexto ejercicio"
      ]
    },
    {
      "cell_type": "markdown",
      "metadata": {
        "id": "lI3w3qPhR7UD"
      },
      "source": [
        "Diseñe un programa que genere un listado con las edades de N habitantes de una ciudad, donde la cantidad de habitantes sea un valor random entre 1000 y 50000, y la edad de cada persona también un random entre 1 y 100 años. Al final del programa, indicar cuanto es la población total y el porcentaje de cuántos son mayores de edad (>=18) y cuántos no"
      ]
    },
    {
      "cell_type": "code",
      "metadata": {
        "colab": {
          "base_uri": "https://localhost:8080/"
        },
        "id": "l6vlfBj7R9wA",
        "outputId": "58e0c1f0-0ffd-4fc7-870e-442fa15b3bb0"
      },
      "source": [
        "from random import randint\r\n",
        "poblacion = [randint(1,100) for x in range(randint(10000,50000))]\r\n",
        "menores = [edad for edad in poblacion if edad < 18]\r\n",
        "print(\"Habitantes: \" + str(len(poblacion)) + \r\n",
        "      \"\\n Menores de 18= \" + str(len(menores)) + \", con un porcentaje de: \" + str(len(menores)*100/len(poblacion)) + \"%\" + \r\n",
        "      \"\\n Mayores de edad= \" + str(len(poblacion)-len(menores)) + \", con un porcentaje de: \" + str((len(poblacion)-len(menores))*100/len(poblacion)) + \"%\")"
      ],
      "execution_count": 3,
      "outputs": [
        {
          "output_type": "stream",
          "text": [
            "Habitantes: 13486\n",
            " Menores de 18= 2394, con un porcentaje de: 17.751742547827376%\n",
            " Mayores de edad= 11092, con un porcentaje de: 82.24825745217262%\n"
          ],
          "name": "stdout"
        }
      ]
    },
    {
      "cell_type": "markdown",
      "metadata": {
        "id": "yrbiwK3oSL1y"
      },
      "source": [
        "Septimo ejecicio"
      ]
    },
    {
      "cell_type": "markdown",
      "metadata": {
        "id": "_CntozLQSP01"
      },
      "source": [
        "\r\n",
        "El Objeto Array Numpy (Computación científica)\r\n",
        "\r\n",
        "Numpy es uno de los módulos más importantes de Pyhton. Añade toda la capacidad matemática y vectorial a Python, haciendo posible operar con cualquier dato númerico o array. Incorpora operaciones tan básicas como la suma, la multiplicación u otras mucho más complejas como la transformada de Fourier o el álgebla lineal. Tambien permite incorporar código fuente de otros lenguajes de programación como C/C++, o Fortran, lo que incrementa su compatibilidad e implementación.\r\n",
        "\r\n",
        "Ejemplo de Uso:"
      ]
    },
    {
      "cell_type": "code",
      "metadata": {
        "colab": {
          "base_uri": "https://localhost:8080/"
        },
        "id": "up3OVny8SSM2",
        "outputId": "a5eb9392-98d2-4948-9a49-0cfb778bb8de"
      },
      "source": [
        "import numpy as np\r\n",
        "from random import randint\r\n",
        "matriz = np.array([[i+1, randint(10000,70000)] for i in range(10)])\r\n",
        "print(matriz)"
      ],
      "execution_count": 4,
      "outputs": [
        {
          "output_type": "stream",
          "text": [
            "[[    1 12998]\n",
            " [    2 62407]\n",
            " [    3 68349]\n",
            " [    4 42900]\n",
            " [    5 49999]\n",
            " [    6 40460]\n",
            " [    7 38436]\n",
            " [    8 44842]\n",
            " [    9 64165]\n",
            " [   10 69351]]\n"
          ],
          "name": "stdout"
        }
      ]
    },
    {
      "cell_type": "markdown",
      "metadata": {
        "id": "62nnCj8pSaFd"
      },
      "source": [
        "\r\n",
        "Diseñe un programa (máx 5 líneas) donde 6 candidatos se disputan la alcaldía. Los partidos políticos son:\r\n",
        "\r\n",
        "1 Socio-democrático,\r\n",
        "2 Ultra-derecha,\r\n",
        "3 Primero los ricos,\r\n",
        "4 Centro corrupto,\r\n",
        "5 Cambio invertido,\r\n",
        "6 Alianza pobre Los votos de cada,candidatos son generados de forma random entre 1 y 25000 votos máximo, el software debe determinar quien fue el ganador."
      ]
    },
    {
      "cell_type": "code",
      "metadata": {
        "colab": {
          "base_uri": "https://localhost:8080/"
        },
        "id": "eW4bVgW2Sgie",
        "outputId": "d6c1f942-a2d8-425e-b063-847096c741ea"
      },
      "source": [
        "import numpy as np\r\n",
        "from random import randint\r\n",
        "matriz = np.array([[i+1, randint(1,25000)] for i in range(6)])\r\n",
        "ganador = np.where(matriz[:,1] == matriz[:,1].max())\r\n",
        "print(\"El ganador es: \" + str(matriz[ganador[0]]) + \"\\n\\n Las votaciones fueron: \\n\" + str(matriz))"
      ],
      "execution_count": 5,
      "outputs": [
        {
          "output_type": "stream",
          "text": [
            "El ganador es: [[    3 21649]]\n",
            "\n",
            " Las votaciones fueron: \n",
            "[[    1 21541]\n",
            " [    2   965]\n",
            " [    3 21649]\n",
            " [    4 14258]\n",
            " [    5  2618]\n",
            " [    6 17698]]\n"
          ],
          "name": "stdout"
        }
      ]
    },
    {
      "cell_type": "markdown",
      "metadata": {
        "id": "3SKoudP9SzK2"
      },
      "source": [
        "Octavo ejercicio"
      ]
    },
    {
      "cell_type": "markdown",
      "metadata": {
        "id": "2IH0alWzS63A"
      },
      "source": [
        "\r\n",
        "Diseñe un programa donde 6 candidatos se presentan a la disputa de la Gobernación, los candidatos son de los siguientes partidos:\r\n",
        "\r\n",
        "1 Socio-democrático\r\n",
        "2 Ultra-derecha\r\n",
        "3 Primero los ricos\r\n",
        "4 Centro corrupto\r\n",
        "5 Cambio invertido\r\n",
        "6 Alianza pobre\r\n",
        "Los votos de los candidatos son generados de manera random entre 1 y 4500 votos máximo para cada uno de los 123 municipios del departamento, el software debe determinar quien fue el ganador.\r\n",
        "\r\n",
        "Consejo: Crear una matriz para los votos, compuesta de 123 filas y 6 columnas, cuyo valor sea random entre 1 y 4500"
      ]
    },
    {
      "cell_type": "code",
      "metadata": {
        "colab": {
          "base_uri": "https://localhost:8080/"
        },
        "id": "JuEcuIhoS5zi",
        "outputId": "c4f7600a-dce6-42b9-fe70-fa15a14ee568"
      },
      "source": [
        "\r\n",
        "import numpy as np\r\n",
        "from random import randint\r\n",
        "votos = np.random.randint(4500, size=(123,6))\r\n",
        "total_votos = np.array([[candidato+1, votos[:,candidato].sum()] for candidato in range(len(votos[0]))])\r\n",
        "ganador = np.where(total_votos == total_votos[:,1].max())\r\n",
        "print(\"El candidato ganador fue: \" + str(total_votos[ganador[0]]) + \"\\n\\n La votación fue la siguiente: \\n\" + str(total_votos))"
      ],
      "execution_count": 6,
      "outputs": [
        {
          "output_type": "stream",
          "text": [
            "El candidato ganador fue: [[     2 298211]]\n",
            "\n",
            " La votación fue la siguiente: \n",
            "[[     1 285267]\n",
            " [     2 298211]\n",
            " [     3 256855]\n",
            " [     4 257712]\n",
            " [     5 288041]\n",
            " [     6 268601]]\n"
          ],
          "name": "stdout"
        }
      ]
    },
    {
      "cell_type": "markdown",
      "metadata": {
        "id": "TbR8aDwyTCtH"
      },
      "source": [
        "Noveno ejercico"
      ]
    },
    {
      "cell_type": "markdown",
      "metadata": {
        "id": "BQVwdDL-THDu"
      },
      "source": [
        "\r\n",
        "Crear un programa para simular una carrera de F1, en dónde existen 5 vehículos:\r\n",
        "\r\n",
        "1 Renault 2 Ferrari 3 Mercedez 4 Ford 5 Red Bull\r\n",
        "\r\n",
        "La carrera esta diseñada para 4 vueltas donde el tiempo mínimo es de 8.2 segundos y el máximo es de 10 segundos. Diseñe la matriz 4x5 donde el determine cual es el vehículo ganador, y los tiempos de cada vehículo por vuelta en random."
      ]
    },
    {
      "cell_type": "code",
      "metadata": {
        "colab": {
          "base_uri": "https://localhost:8080/"
        },
        "id": "AbbPd_1uTJDi",
        "outputId": "90504a42-c788-42f9-85a2-26f0240c1b7e"
      },
      "source": [
        "import numpy as np\r\n",
        "from random import uniform\r\n",
        "matriz = np.random.uniform(8.2, 10, size=(4,5))\r\n",
        "total_vueltas = np.array([[corredor+1, matriz[:,corredor].sum()] for corredor in range(len(matriz[0]))])\r\n",
        "ganador = np.where(matriz == matriz[:,1].min())\r\n",
        "print(\"Ganador de la carrera: \" + str(total_vueltas[ganador[0]]) + \"\\n\\n Resultados de la carrera: \\n\" + str(matriz))"
      ],
      "execution_count": 7,
      "outputs": [
        {
          "output_type": "stream",
          "text": [
            "Ganador de la carrera: [[ 2.         38.82848799]]\n",
            "\n",
            " Resultados de la carrera: \n",
            "[[8.90709796 9.65039768 9.53563705 9.35527673 9.28906049]\n",
            " [9.87436585 9.56949506 8.75509273 8.23383145 9.34440912]\n",
            " [8.48500899 9.90514745 9.12998177 8.66248452 9.36812306]\n",
            " [9.69791993 9.7034478  9.0879862  9.65216524 9.40948698]]\n"
          ],
          "name": "stdout"
        }
      ]
    },
    {
      "cell_type": "markdown",
      "metadata": {
        "id": "FBKPz_aHTNaY"
      },
      "source": [
        "Decimo ejercicio"
      ]
    },
    {
      "cell_type": "markdown",
      "metadata": {
        "id": "7Z26sUKLTP5o"
      },
      "source": [
        "Matplotlib (Biblioteca de gráficos 2D en Python)\r\n",
        "\r\n",
        "Esta biblioteca puede generar gráficos como histogramas, espectros de potencia, de barras, de error, de dispersión, etc., con pocas lineas de código. Para un trazado simple, el módulo matplotlib.pyplot proporciona una interfaz gráfica similar a MATLAB, particularmente cuando se combina con IPython.\r\n",
        "\r\n",
        "Ejemplo de aplicación:\r\n"
      ]
    },
    {
      "cell_type": "code",
      "metadata": {
        "colab": {
          "base_uri": "https://localhost:8080/",
          "height": 265
        },
        "id": "gOSBYrH5TS6Q",
        "outputId": "cca33dea-adc7-4ba7-a7b9-34ddc0df8910"
      },
      "source": [
        "import matplotlib.pyplot as plt\r\n",
        "plt.plot([10,20,40,20])\r\n",
        "plt.ylabel(\"Gráfico Básico\")\r\n",
        "plt.show()\r\n"
      ],
      "execution_count": 8,
      "outputs": [
        {
          "output_type": "display_data",
          "data": {
            "image/png": "[encoded data removed]",
            "text/plain": [
              "<Figure size 432x288 with 1 Axes>"
            ]
          },
          "metadata": {
            "tags": [],
            "needs_background": "light"
          }
        }
      ]
    },
    {
      "cell_type": "code",
      "metadata": {
        "colab": {
          "base_uri": "https://localhost:8080/",
          "height": 265
        },
        "id": "FKFx5pUMTW3F",
        "outputId": "59ae2cdd-3019-4e6f-f5e0-310d95db9b24"
      },
      "source": [
        "import matplotlib.pyplot as plt\r\n",
        "import random\r\n",
        "lista = [random.randrange(10) for i in range(10)]\r\n",
        "plt.plot(lista, 'ro')\r\n",
        "plt.ylabel(\"Números random de 0 a 10\")\r\n",
        "plt.show()"
      ],
      "execution_count": 9,
      "outputs": [
        {
          "output_type": "display_data",
          "data": {
            "image/png": "[encoded data removed]",
            "text/plain": [
              "<Figure size 432x288 with 1 Axes>"
            ]
          },
          "metadata": {
            "tags": [],
            "needs_background": "light"
          }
        }
      ]
    },
    {
      "cell_type": "markdown",
      "metadata": {
        "id": "SIss-mGoTdaX"
      },
      "source": [
        "Ejercicio 10\r\n",
        "\r\n",
        "Visualice en gráficos de dispersión [pylot(scatter)] o de barras tomando los valores obtenidos en los ejercicios:\r\n",
        "\r\n",
        "* Numpy, Ejercicio 1 (Alcaldes) -> Barras\r\n",
        "* Numpy, Ejercicio 3 (F1) -> Dispersión (colores por vehículo)"
      ]
    },
    {
      "cell_type": "code",
      "metadata": {
        "colab": {
          "base_uri": "https://localhost:8080/",
          "height": 375
        },
        "id": "qHpAAD_wTgBL",
        "outputId": "6608d68a-bb01-4bf4-a14d-1b66724eb978"
      },
      "source": [
        "import numpy as np\r\n",
        "from random import randint\r\n",
        "import matplotlib.pyplot as plt\r\n",
        "\r\n",
        "# Votaciones\r\n",
        "matriz = np.array([[i+1, randint(1,20000)] for i in range(6)])\r\n",
        "ganador = np.where(matriz == matriz[:,1].max())\r\n",
        "# Diagrama de Barras\r\n",
        "fig = plt.figure('Gráfica de Barras') # Generación de Ventana\r\n",
        "ax = fig.add_subplot(1,1,1) # Un eje coordenado\r\n",
        "nombres = ['1. Socio-democrático', '2. Ultra-derecha', '3. Primero los ricos', '4. Centro corrupto', '5. Cambio invertido', '6. Alianza pobre']\r\n",
        "\r\n",
        "ax.bar(range(len(matriz)), matriz[:,1]) # Función bar para diagramar, con parametros de votos y puntos a ubicar\r\n",
        "ax.set_xticks(range(len(matriz[:,1]))) # Número de puntos a ubicar\r\n",
        "ax.set_xticklabels(nombres, rotation='vertical') # Agregar etiquetas a cada punto ubicado en el eje x\r\n",
        "\r\n",
        "plt.ylabel('Total votos')\r\n",
        "plt.xlabel('Candidatos')\r\n",
        "plt.show()"
      ],
      "execution_count": 10,
      "outputs": [
        {
          "output_type": "display_data",
          "data": {
            "image/png": "[encoded data removed]",
            "text/plain": [
              "<Figure size 432x288 with 1 Axes>"
            ]
          },
          "metadata": {
            "tags": [],
            "needs_background": "light"
          }
        }
      ]
    },
    {
      "cell_type": "code",
      "metadata": {
        "colab": {
          "base_uri": "https://localhost:8080/",
          "height": 430
        },
        "id": "cL0bpm8tTn4z",
        "outputId": "a3032912-4f6f-4ed2-a647-6ed1cef73b72"
      },
      "source": [
        "import numpy as np\r\n",
        "import matplotlib.pyplot as plt\r\n",
        "\r\n",
        "# Vehículos\r\n",
        "matriz = np.random.uniform(8.2, 10, size=(4,5))\r\n",
        "total_vueltas = np.array([[corredor+1, matriz[:,corredor].sum()] for corredor in range(len(matriz[0]))])\r\n",
        "ganador = np.where(matriz == matriz[:,1].min())\r\n",
        "print(\"El ganador fue : \" + str(total_vueltas[ganador[0]]) + \"\\n\\n  El tiempo total por corredor fue de: \\n\" + str(total_vueltas))\r\n",
        "\r\n",
        "# Diagrama de dispersión\r\n",
        "x = total_vueltas[:,1]\r\n",
        "y = total_vueltas[:,0]\r\n",
        "fig = plt.figure()\r\n",
        "fig.add_subplot(111) \r\n",
        "plt.xlabel('Corredores')\r\n",
        "plt.ylabel('Total Tiempo')\r\n",
        "plt.scatter(y, x, c=x)\r\n",
        "plt.show"
      ],
      "execution_count": 11,
      "outputs": [
        {
          "output_type": "stream",
          "text": [
            "El ganador fue : [[ 3.         37.83955754]]\n",
            "\n",
            "  El tiempo total por corredor fue de: \n",
            "[[ 1.         37.97040778]\n",
            " [ 2.         37.21498132]\n",
            " [ 3.         37.83955754]\n",
            " [ 4.         35.90319109]\n",
            " [ 5.         36.79600006]]\n"
          ],
          "name": "stdout"
        },
        {
          "output_type": "execute_result",
          "data": {
            "text/plain": [
              "<function matplotlib.pyplot.show>"
            ]
          },
          "metadata": {
            "tags": []
          },
          "execution_count": 11
        },
        {
          "output_type": "display_data",
          "data": {
            "image/png": "[encoded data removed]",
            "text/plain": [
              "<Figure size 432x288 with 1 Axes>"
            ]
          },
          "metadata": {
            "tags": [],
            "needs_background": "light"
          }
        }
      ]
    }
  ]
}