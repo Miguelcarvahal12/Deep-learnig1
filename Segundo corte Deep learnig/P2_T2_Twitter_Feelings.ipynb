{
  "nbformat": 4,
  "nbformat_minor": 0,
  "metadata": {
    "colab": {
      "name": "P2_T2_Twitter_Feelings.ipynb",
      "provenance": [],
      "collapsed_sections": []
    },
    "kernelspec": {
      "name": "python3",
      "display_name": "Python 3"
    },
    "language_info": {
      "name": "python"
    }
  },
  "cells": [
    {
      "cell_type": "markdown",
      "metadata": {
        "id": "Y0oB7MLBuVNA"
      },
      "source": [
        "# **Autenticacion con la plataforma twitter**"
      ]
    },
    {
      "cell_type": "markdown",
      "metadata": {
        "id": "MIw2Arb5undf"
      },
      "source": [
        "Se van a importas librerias "
      ]
    },
    {
      "cell_type": "code",
      "metadata": {
        "id": "QfUaVjuuuOdf"
      },
      "source": [
        "import os\n",
        "import tweepy as twe\n",
        "import pandas as pd"
      ],
      "execution_count": null,
      "outputs": []
    },
    {
      "cell_type": "markdown",
      "metadata": {
        "id": "HlxZRaO2wgoq"
      },
      "source": [
        "Llaves y tokens de acceso"
      ]
    },
    {
      "cell_type": "code",
      "metadata": {
        "id": "PUY1QwCbw010"
      },
      "source": [
        "consumer_key='oFf9VR8s6xA9AweqQsWyy6sp8'\n",
        "consumer_secret='NkfU9AoK2iw89o9kY2EB9FKf4YlHMnsFwrSgJzJq2KpR9ERbUG'\n",
        "access_token='1388558403690287109-IK2F7PjsThI4r1st2d8Djr8UKbLZBD'\n",
        "access_token_secret='ilUZULiHzQ09webU5Q2IQzOxhRIKvtsuHuZ1LjECwXSoK'\n",
        "\n",
        "auth = twe.OAuthHandler(consumer_key, consumer_secret)\n",
        "auth.set_access_token(access_token,access_token_secret)\n",
        "api = twe.API(auth, wait_on_rate_limit=True)"
      ],
      "execution_count": null,
      "outputs": []
    },
    {
      "cell_type": "markdown",
      "metadata": {
        "id": "N26e-vkaw8Hm"
      },
      "source": [
        "Publicar un Tweet"
      ]
    },
    {
      "cell_type": "code",
      "metadata": {
        "colab": {
          "base_uri": "https://localhost:8080/"
        },
        "id": "l98pHc6Bqvzw",
        "outputId": "bbb59ab6-690b-4087-ffa2-0b93b65a1dfe"
      },
      "source": [
        "api.update_status(\"#Soynuevoenestojajajaja\")"
      ],
      "execution_count": null,
      "outputs": [
        {
          "output_type": "execute_result",
          "data": {
            "text/plain": [
              "Status(_api=<tweepy.api.API object at 0x7ff6b863f910>, _json={'created_at': 'Sat May 22 01:29:04 +0000 2021', 'id': 1395914575648747523, 'id_str': '1395914575648747523', 'text': '#Soynuevoenestojajajaja', 'truncated': False, 'entities': {'hashtags': [{'text': 'Soynuevoenestojajajaja', 'indices': [0, 23]}], 'symbols': [], 'user_mentions': [], 'urls': []}, 'source': '<a href=\"https://help.twitter.com/en/using-twitter/how-to-tweet#source-labels\" rel=\"nofollow\">Feelingscrapper</a>', 'in_reply_to_status_id': None, 'in_reply_to_status_id_str': None, 'in_reply_to_user_id': None, 'in_reply_to_user_id_str': None, 'in_reply_to_screen_name': None, 'user': {'id': 1388558403690287109, 'id_str': '1388558403690287109', 'name': 'Nicolas Carreño', 'screen_name': 'nicolascap26', 'location': '', 'description': '', 'url': None, 'entities': {'description': {'urls': []}}, 'protected': False, 'followers_count': 0, 'friends_count': 1, 'listed_count': 0, 'created_at': 'Sat May 01 18:18:31 +0000 2021', 'favourites_count': 0, 'utc_offset': None, 'time_zone': None, 'geo_enabled': False, 'verified': False, 'statuses_count': 6, 'lang': None, 'contributors_enabled': False, 'is_translator': False, 'is_translation_enabled': False, 'profile_background_color': 'F5F8FA', 'profile_background_image_url': None, 'profile_background_image_url_https': None, 'profile_background_tile': False, 'profile_image_url': 'http://abs.twimg.com/sticky/default_profile_images/default_profile_normal.png', 'profile_image_url_https': 'https://abs.twimg.com/sticky/default_profile_images/default_profile_normal.png', 'profile_link_color': '1DA1F2', 'profile_sidebar_border_color': 'C0DEED', 'profile_sidebar_fill_color': 'DDEEF6', 'profile_text_color': '333333', 'profile_use_background_image': True, 'has_extended_profile': True, 'default_profile': True, 'default_profile_image': True, 'following': False, 'follow_request_sent': False, 'notifications': False, 'translator_type': 'none', 'withheld_in_countries': []}, 'geo': None, 'coordinates': None, 'place': None, 'contributors': None, 'is_quote_status': False, 'retweet_count': 0, 'favorite_count': 0, 'favorited': False, 'retweeted': False, 'lang': 'und'}, created_at=datetime.datetime(2021, 5, 22, 1, 29, 4), id=1395914575648747523, id_str='1395914575648747523', text='#Soynuevoenestojajajaja', truncated=False, entities={'hashtags': [{'text': 'Soynuevoenestojajajaja', 'indices': [0, 23]}], 'symbols': [], 'user_mentions': [], 'urls': []}, source='Feelingscrapper', source_url='https://help.twitter.com/en/using-twitter/how-to-tweet#source-labels', in_reply_to_status_id=None, in_reply_to_status_id_str=None, in_reply_to_user_id=None, in_reply_to_user_id_str=None, in_reply_to_screen_name=None, author=User(_api=<tweepy.api.API object at 0x7ff6b863f910>, _json={'id': 1388558403690287109, 'id_str': '1388558403690287109', 'name': 'Nicolas Carreño', 'screen_name': 'nicolascap26', 'location': '', 'description': '', 'url': None, 'entities': {'description': {'urls': []}}, 'protected': False, 'followers_count': 0, 'friends_count': 1, 'listed_count': 0, 'created_at': 'Sat May 01 18:18:31 +0000 2021', 'favourites_count': 0, 'utc_offset': None, 'time_zone': None, 'geo_enabled': False, 'verified': False, 'statuses_count': 6, 'lang': None, 'contributors_enabled': False, 'is_translator': False, 'is_translation_enabled': False, 'profile_background_color': 'F5F8FA', 'profile_background_image_url': None, 'profile_background_image_url_https': None, 'profile_background_tile': False, 'profile_image_url': 'http://abs.twimg.com/sticky/default_profile_images/default_profile_normal.png', 'profile_image_url_https': 'https://abs.twimg.com/sticky/default_profile_images/default_profile_normal.png', 'profile_link_color': '1DA1F2', 'profile_sidebar_border_color': 'C0DEED', 'profile_sidebar_fill_color': 'DDEEF6', 'profile_text_color': '333333', 'profile_use_background_image': True, 'has_extended_profile': True, 'default_profile': True, 'default_profile_image': True, 'following': False, 'follow_request_sent': False, 'notifications': False, 'translator_type': 'none', 'withheld_in_countries': []}, id=1388558403690287109, id_str='1388558403690287109', name='Nicolas Carreño', screen_name='nicolascap26', location='', description='', url=None, entities={'description': {'urls': []}}, protected=False, followers_count=0, friends_count=1, listed_count=0, created_at=datetime.datetime(2021, 5, 1, 18, 18, 31), favourites_count=0, utc_offset=None, time_zone=None, geo_enabled=False, verified=False, statuses_count=6, lang=None, contributors_enabled=False, is_translator=False, is_translation_enabled=False, profile_background_color='F5F8FA', profile_background_image_url=None, profile_background_image_url_https=None, profile_background_tile=False, profile_image_url='http://abs.twimg.com/sticky/default_profile_images/default_profile_normal.png', profile_image_url_https='https://abs.twimg.com/sticky/default_profile_images/default_profile_normal.png', profile_link_color='1DA1F2', profile_sidebar_border_color='C0DEED', profile_sidebar_fill_color='DDEEF6', profile_text_color='333333', profile_use_background_image=True, has_extended_profile=True, default_profile=True, default_profile_image=True, following=False, follow_request_sent=False, notifications=False, translator_type='none', withheld_in_countries=[]), user=User(_api=<tweepy.api.API object at 0x7ff6b863f910>, _json={'id': 1388558403690287109, 'id_str': '1388558403690287109', 'name': 'Nicolas Carreño', 'screen_name': 'nicolascap26', 'location': '', 'description': '', 'url': None, 'entities': {'description': {'urls': []}}, 'protected': False, 'followers_count': 0, 'friends_count': 1, 'listed_count': 0, 'created_at': 'Sat May 01 18:18:31 +0000 2021', 'favourites_count': 0, 'utc_offset': None, 'time_zone': None, 'geo_enabled': False, 'verified': False, 'statuses_count': 6, 'lang': None, 'contributors_enabled': False, 'is_translator': False, 'is_translation_enabled': False, 'profile_background_color': 'F5F8FA', 'profile_background_image_url': None, 'profile_background_image_url_https': None, 'profile_background_tile': False, 'profile_image_url': 'http://abs.twimg.com/sticky/default_profile_images/default_profile_normal.png', 'profile_image_url_https': 'https://abs.twimg.com/sticky/default_profile_images/default_profile_normal.png', 'profile_link_color': '1DA1F2', 'profile_sidebar_border_color': 'C0DEED', 'profile_sidebar_fill_color': 'DDEEF6', 'profile_text_color': '333333', 'profile_use_background_image': True, 'has_extended_profile': True, 'default_profile': True, 'default_profile_image': True, 'following': False, 'follow_request_sent': False, 'notifications': False, 'translator_type': 'none', 'withheld_in_countries': []}, id=1388558403690287109, id_str='1388558403690287109', name='Nicolas Carreño', screen_name='nicolascap26', location='', description='', url=None, entities={'description': {'urls': []}}, protected=False, followers_count=0, friends_count=1, listed_count=0, created_at=datetime.datetime(2021, 5, 1, 18, 18, 31), favourites_count=0, utc_offset=None, time_zone=None, geo_enabled=False, verified=False, statuses_count=6, lang=None, contributors_enabled=False, is_translator=False, is_translation_enabled=False, profile_background_color='F5F8FA', profile_background_image_url=None, profile_background_image_url_https=None, profile_background_tile=False, profile_image_url='http://abs.twimg.com/sticky/default_profile_images/default_profile_normal.png', profile_image_url_https='https://abs.twimg.com/sticky/default_profile_images/default_profile_normal.png', profile_link_color='1DA1F2', profile_sidebar_border_color='C0DEED', profile_sidebar_fill_color='DDEEF6', profile_text_color='333333', profile_use_background_image=True, has_extended_profile=True, default_profile=True, default_profile_image=True, following=False, follow_request_sent=False, notifications=False, translator_type='none', withheld_in_countries=[]), geo=None, coordinates=None, place=None, contributors=None, is_quote_status=False, retweet_count=0, favorite_count=0, favorited=False, retweeted=False, lang='und')"
            ]
          },
          "metadata": {
            "tags": []
          },
          "execution_count": 14
        }
      ]
    },
    {
      "cell_type": "markdown",
      "metadata": {
        "id": "I5t4a7f0xIC_"
      },
      "source": [
        "Obtener  la  data de twitter"
      ]
    },
    {
      "cell_type": "code",
      "metadata": {
        "id": "50ObHq3QxCtY"
      },
      "source": [
        "search_words ='#CIDHEnColombia'\n",
        "date_since = '2021-05-20'\n",
        "new_search = search_words+\" -filter:retweets\"\n",
        "tweets = twe.Cursor(api.search, q=new_search,lang='es',since=date_since).items(3000)\n",
        "#[tweet.text for tweet in tweets]"
      ],
      "execution_count": null,
      "outputs": []
    },
    {
      "cell_type": "markdown",
      "metadata": {
        "id": "izcbayQ7xbNR"
      },
      "source": [
        "se carga el csv  del corpus de google "
      ]
    },
    {
      "cell_type": "code",
      "metadata": {
        "id": "xWiAyeszxloS",
        "colab": {
          "base_uri": "https://localhost:8080/"
        },
        "outputId": "13a6150c-4fa0-4a89-ee15-d94b73ef2ec6"
      },
      "source": [
        "from google.colab import drive\n",
        "drive.mount('/content/drive')"
      ],
      "execution_count": null,
      "outputs": [
        {
          "output_type": "stream",
          "text": [
            "Drive already mounted at /content/drive; to attempt to forcibly remount, call drive.mount(\"/content/drive\", force_remount=True).\n"
          ],
          "name": "stdout"
        }
      ]
    },
    {
      "cell_type": "markdown",
      "metadata": {
        "id": "hHpbhj7BxudZ"
      },
      "source": [
        "Se convierte los tweets del Dataframe"
      ]
    },
    {
      "cell_type": "code",
      "metadata": {
        "id": "oMcjojZSyA6Q"
      },
      "source": [
        "data_frame = [[tweet.user.screen_name, tweet.user.location,tweet.text] for tweet in tweets]\n",
        "\n",
        "tw_dataframe = pd.DataFrame(data= data_frame , columns=[\"user\",\"location\",\"text\"])\n",
        "tw_dataframe\n",
        "#guardamos el dataframe en un CSV\n",
        "tw_dataframe.to_csv('/content/drive/MyDrive/Colab Notebooks/DataTwitter/intentando_tweets.csv', index=False, encoding='utf-8')"
      ],
      "execution_count": null,
      "outputs": []
    },
    {
      "cell_type": "code",
      "metadata": {
        "id": "0GEjHNS4yJGA",
        "colab": {
          "base_uri": "https://localhost:8080/",
          "height": 639
        },
        "outputId": "e54e8654-6cce-435f-e59a-928bc9085c04"
      },
      "source": [
        "tw_dataframe.head(20)"
      ],
      "execution_count": null,
      "outputs": [
        {
          "output_type": "execute_result",
          "data": {
            "text/html": [
              "<div>\n",
              "<style scoped>\n",
              "    .dataframe tbody tr th:only-of-type {\n",
              "        vertical-align: middle;\n",
              "    }\n",
              "\n",
              "    .dataframe tbody tr th {\n",
              "        vertical-align: top;\n",
              "    }\n",
              "\n",
              "    .dataframe thead th {\n",
              "        text-align: right;\n",
              "    }\n",
              "</style>\n",
              "<table border=\"1\" class=\"dataframe\">\n",
              "  <thead>\n",
              "    <tr style=\"text-align: right;\">\n",
              "      <th></th>\n",
              "      <th>user</th>\n",
              "      <th>location</th>\n",
              "      <th>text</th>\n",
              "    </tr>\n",
              "  </thead>\n",
              "  <tbody>\n",
              "    <tr>\n",
              "      <th>0</th>\n",
              "      <td>ALFONSOTEJADARO</td>\n",
              "      <td>Ciudadano del Mundo</td>\n",
              "      <td>#CIDHEnColombia necesitamos saber de la suerte...</td>\n",
              "    </tr>\n",
              "    <tr>\n",
              "      <th>1</th>\n",
              "      <td>SimonBolivaryP1</td>\n",
              "      <td></td>\n",
              "      <td>Necesitamos la #CIDHEnColombia , nos están mat...</td>\n",
              "    </tr>\n",
              "    <tr>\n",
              "      <th>2</th>\n",
              "      <td>mcristinafari</td>\n",
              "      <td></td>\n",
              "      <td>@NoticiasMasCol #SOSColombiaDDHH\\n#SOSColombia...</td>\n",
              "    </tr>\n",
              "    <tr>\n",
              "      <th>3</th>\n",
              "      <td>MariaMa17238343</td>\n",
              "      <td>Medellín, Colombia</td>\n",
              "      <td>Alguien que respeta a ese señor o es un idiota...</td>\n",
              "    </tr>\n",
              "    <tr>\n",
              "      <th>4</th>\n",
              "      <td>Adrgpz1</td>\n",
              "      <td></td>\n",
              "      <td>#CIDHEnColombia para que eviten el adoctrinami...</td>\n",
              "    </tr>\n",
              "    <tr>\n",
              "      <th>5</th>\n",
              "      <td>angelicacb0</td>\n",
              "      <td>no where</td>\n",
              "      <td>@IvanDuque escuche a la ciudadanía (y no hable...</td>\n",
              "    </tr>\n",
              "    <tr>\n",
              "      <th>6</th>\n",
              "      <td>OsitaMayo2</td>\n",
              "      <td>Colombia</td>\n",
              "      <td>¡Colombianos, pido no dejar morir esta tendenc...</td>\n",
              "    </tr>\n",
              "    <tr>\n",
              "      <th>7</th>\n",
              "      <td>249Evelio</td>\n",
              "      <td></td>\n",
              "      <td>#CIDHEnColombia . todos los entes de control e...</td>\n",
              "    </tr>\n",
              "    <tr>\n",
              "      <th>8</th>\n",
              "      <td>SantiagOrtizLav</td>\n",
              "      <td>Bogotá, Colombia</td>\n",
              "      <td>La sensatez, decencia, liderazgo e inteligenci...</td>\n",
              "    </tr>\n",
              "    <tr>\n",
              "      <th>9</th>\n",
              "      <td>Blackesar</td>\n",
              "      <td>Bogota, Colombia</td>\n",
              "      <td>#CIDHEnColombia\\nDÓNDE ESTAN LOS DESAPARECIDOS...</td>\n",
              "    </tr>\n",
              "    <tr>\n",
              "      <th>10</th>\n",
              "      <td>alvarez_roja13</td>\n",
              "      <td>West New York, NJ</td>\n",
              "      <td>@Nessnio Miren lo q esta pasando en esta dicta...</td>\n",
              "    </tr>\n",
              "    <tr>\n",
              "      <th>11</th>\n",
              "      <td>BarriosDency</td>\n",
              "      <td></td>\n",
              "      <td>Los marchantes los están esperando #CIDHEnColo...</td>\n",
              "    </tr>\n",
              "    <tr>\n",
              "      <th>12</th>\n",
              "      <td>diego781012</td>\n",
              "      <td></td>\n",
              "      <td>¿A los cuantos muertos y desaparecidos los van...</td>\n",
              "    </tr>\n",
              "    <tr>\n",
              "      <th>13</th>\n",
              "      <td>nashiraporras</td>\n",
              "      <td>Bogotá, D.C., Colombia</td>\n",
              "      <td>Totalmente de acuerdo\\n#ParoNacional21M #Esmad...</td>\n",
              "    </tr>\n",
              "    <tr>\n",
              "      <th>14</th>\n",
              "      <td>MOLIPES_MOV</td>\n",
              "      <td></td>\n",
              "      <td>Deberíamos dejar de pagar impuestos para NO so...</td>\n",
              "    </tr>\n",
              "    <tr>\n",
              "      <th>15</th>\n",
              "      <td>Reverend8408</td>\n",
              "      <td>En el cora</td>\n",
              "      <td>Duque no quiere que venga derechos humanos por...</td>\n",
              "    </tr>\n",
              "    <tr>\n",
              "      <th>16</th>\n",
              "      <td>Medusavie</td>\n",
              "      <td></td>\n",
              "      <td>Todo todoooo 🕵🏼‍♀🕵🏼‍♂\\n#CIDHEnColombia https:/...</td>\n",
              "    </tr>\n",
              "    <tr>\n",
              "      <th>17</th>\n",
              "      <td>Lis01982742</td>\n",
              "      <td></td>\n",
              "      <td>@CamiOsorioTenis @juanchoGuzmannn Nos están ma...</td>\n",
              "    </tr>\n",
              "    <tr>\n",
              "      <th>18</th>\n",
              "      <td>carolin78182317</td>\n",
              "      <td></td>\n",
              "      <td>Ayuda  #CIDHEnColombia</td>\n",
              "    </tr>\n",
              "    <tr>\n",
              "      <th>19</th>\n",
              "      <td>damsabe</td>\n",
              "      <td>Colombia</td>\n",
              "      <td>tanto que critico el partido de gobierno  la r...</td>\n",
              "    </tr>\n",
              "  </tbody>\n",
              "</table>\n",
              "</div>"
            ],
            "text/plain": [
              "               user  ...                                               text\n",
              "0   ALFONSOTEJADARO  ...  #CIDHEnColombia necesitamos saber de la suerte...\n",
              "1   SimonBolivaryP1  ...  Necesitamos la #CIDHEnColombia , nos están mat...\n",
              "2     mcristinafari  ...  @NoticiasMasCol #SOSColombiaDDHH\\n#SOSColombia...\n",
              "3   MariaMa17238343  ...  Alguien que respeta a ese señor o es un idiota...\n",
              "4           Adrgpz1  ...  #CIDHEnColombia para que eviten el adoctrinami...\n",
              "5       angelicacb0  ...  @IvanDuque escuche a la ciudadanía (y no hable...\n",
              "6        OsitaMayo2  ...  ¡Colombianos, pido no dejar morir esta tendenc...\n",
              "7         249Evelio  ...  #CIDHEnColombia . todos los entes de control e...\n",
              "8   SantiagOrtizLav  ...  La sensatez, decencia, liderazgo e inteligenci...\n",
              "9         Blackesar  ...  #CIDHEnColombia\\nDÓNDE ESTAN LOS DESAPARECIDOS...\n",
              "10   alvarez_roja13  ...  @Nessnio Miren lo q esta pasando en esta dicta...\n",
              "11     BarriosDency  ...  Los marchantes los están esperando #CIDHEnColo...\n",
              "12      diego781012  ...  ¿A los cuantos muertos y desaparecidos los van...\n",
              "13    nashiraporras  ...  Totalmente de acuerdo\\n#ParoNacional21M #Esmad...\n",
              "14      MOLIPES_MOV  ...  Deberíamos dejar de pagar impuestos para NO so...\n",
              "15     Reverend8408  ...  Duque no quiere que venga derechos humanos por...\n",
              "16        Medusavie  ...  Todo todoooo 🕵🏼‍♀🕵🏼‍♂\\n#CIDHEnColombia https:/...\n",
              "17      Lis01982742  ...  @CamiOsorioTenis @juanchoGuzmannn Nos están ma...\n",
              "18  carolin78182317  ...                             Ayuda  #CIDHEnColombia\n",
              "19          damsabe  ...  tanto que critico el partido de gobierno  la r...\n",
              "\n",
              "[20 rows x 3 columns]"
            ]
          },
          "metadata": {
            "tags": []
          },
          "execution_count": 19
        }
      ]
    },
    {
      "cell_type": "markdown",
      "metadata": {
        "id": "xTP7vPn4yNT-"
      },
      "source": [
        "Obtener corpus: Convirtiendo de XML a CSV"
      ]
    },
    {
      "cell_type": "code",
      "metadata": {
        "id": "ASzI1c0OyRIK"
      },
      "source": [
        "#librerias necesarias\n",
        "import xml.etree.ElementTree as etree\n",
        "import csv\n",
        "from os import scandir\n",
        "from sklearn.model_selection import train_test_split"
      ],
      "execution_count": null,
      "outputs": []
    },
    {
      "cell_type": "markdown",
      "metadata": {
        "id": "TBRwvpVOyZUI"
      },
      "source": [
        "Funcion para listar archivos de un directorio"
      ]
    },
    {
      "cell_type": "code",
      "metadata": {
        "id": "ikfKd1YryaLx"
      },
      "source": [
        "import os\n",
        "#listado de archivos desde un path\n",
        "def files_of_path(path):\n",
        "  return[obj.name for obj in os.scandir(path) if obj.is_file()]\n",
        "\n",
        "files = files_of_path(\"/content/drive/MyDrive/Colab Notebooks/Corpus/tass_2017\")\n",
        "for file in files:\n",
        "  print(file)"
      ],
      "execution_count": null,
      "outputs": []
    },
    {
      "cell_type": "markdown",
      "metadata": {
        "id": "rpV_k8tpymaU"
      },
      "source": [
        "Funcion para convertir lists a csv"
      ]
    },
    {
      "cell_type": "code",
      "metadata": {
        "id": "UDJVTmMWyj5R"
      },
      "source": [
        "def list_to_csv(data, filename):\n",
        "  with open(filename, 'w', encoding='utf-8') as csvfile:\n",
        "    writer = csv.writer(csvfile, delimiter=',', lineterminator='\\n', quoting=csv.QUOTE_NONNUMERIC)\n",
        "    writer.writerows(data)"
      ],
      "execution_count": null,
      "outputs": []
    },
    {
      "cell_type": "markdown",
      "metadata": {
        "id": "GFq1DhyYysD-"
      },
      "source": [
        "Funcion para cargar un csv a una lista"
      ]
    },
    {
      "cell_type": "code",
      "metadata": {
        "id": "XpgLmb9synuW"
      },
      "source": [
        "def csv_to_lists(filename):\n",
        "  messages =[]\n",
        "  labels =[]\n",
        "  with open(filename,'r',encoding = 'utf-8') as csvfile:\n",
        "    reader = csv.reader(csvfile,delimiter=',')\n",
        "    for row in reader:\n",
        "      messages.append(row[1])\n",
        "      labels.append(row[2])\n",
        "  return messages, labels"
      ],
      "execution_count": null,
      "outputs": []
    },
    {
      "cell_type": "markdown",
      "metadata": {
        "id": "l7KyXGayy5N8"
      },
      "source": [
        "# Funciones para parsear xml en un dataframe"
      ]
    },
    {
      "cell_type": "markdown",
      "metadata": {
        "id": "8t1cdYkIzPqf"
      },
      "source": [
        "Corpus de general tweeid | content | sentiments"
      ]
    },
    {
      "cell_type": "code",
      "metadata": {
        "id": "HuBTz9awzUDC"
      },
      "source": [
        "def general_tass_to_list(filename):\n",
        "  tree = etree.parse(filename)\n",
        "  root = tree.getroot()\n",
        "  data = []\n",
        "\n",
        "  for tweet in root:\n",
        "    tweetId = tweet.find('tweetid').text\n",
        "    content = tweet.find('content').text\n",
        "    polarityValue = tweet.find('sentiments/polarity/value').text\n",
        "    data.append([tweetId, content.replace('\\n',' '), polarityValue])\n",
        "  return data"
      ],
      "execution_count": null,
      "outputs": []
    },
    {
      "cell_type": "code",
      "metadata": {
        "id": "tdr7fWcRzW2J"
      },
      "source": [
        "def general_tass_2017_to_list(filename,qrel=None):\n",
        "  tree = etree.parse(filename)\n",
        "  root = tree.getroot()\n",
        "  data = []\n",
        "\n",
        "  for tweet in root:\n",
        "    tweetId = tweet.find('tweetid').text\n",
        "    content = tweet.find('content').text\n",
        "    polarityValue = qrel[tweetId]\n",
        "    data.append([tweetId, content.replace('\\n',' '), polarityValue])\n",
        "\n",
        "  return data"
      ],
      "execution_count": null,
      "outputs": []
    },
    {
      "cell_type": "markdown",
      "metadata": {
        "id": "1kizTFsjzb3-"
      },
      "source": [
        "Corpus politics tweetid | content | sentiments/polarity"
      ]
    },
    {
      "cell_type": "code",
      "metadata": {
        "id": "n85nPm9Czdcu"
      },
      "source": [
        "def politics_tass_to_list(filename):\n",
        "  tree = etree.parse(filename)\n",
        "  root = tree.getroot()\n",
        "  data = []\n",
        "\n",
        "  for tweet in root:\n",
        "    tweetId = tweet.find('tweetid').text\n",
        "    content = tweet.find('content').text\n",
        "    aux = next((e for e in tweet.findall('sentiments/polarity') if e.find('entity') == None), None)\n",
        "    if aux != None:\n",
        "      polarityValue = aux.find('value').text\n",
        "      data.append([tweetId, content.replace('\\n',' '), polarityValue])\n",
        "  return data"
      ],
      "execution_count": null,
      "outputs": []
    },
    {
      "cell_type": "markdown",
      "metadata": {
        "id": "eis9QBTczhoD"
      },
      "source": [
        "corpus de internacional tweetid | content | sentiments/polarity/value"
      ]
    },
    {
      "cell_type": "code",
      "metadata": {
        "id": "1Jmdzgn3zk4x"
      },
      "source": [
        "def intertass_tass_to_list(filename, qrel=None):\n",
        "  tree = etree.parse(filename)\n",
        "  root = tree.getroot()\n",
        "  data = []\n",
        "\n",
        "  for tweet in root:\n",
        "    tweetId = tweet.find('tweetid').text\n",
        "    content = tweet.find('content').text\n",
        "    polarityValue = tweet.find('sentiment/polarity/value').text\n",
        "    if polarityValue == None:\n",
        "      polarityValue = qrel[tweetId]\n",
        "      data.append([tweetId, content.replace('\\n',' '), polarityValue])\n",
        "  return data"
      ],
      "execution_count": null,
      "outputs": []
    },
    {
      "cell_type": "markdown",
      "metadata": {
        "id": "srSB4f44zoAC"
      },
      "source": [
        "Parsear corpus de Social-TV (not finished)"
      ]
    },
    {
      "cell_type": "code",
      "metadata": {
        "id": "_M_XUAsQzo8R",
        "colab": {
          "base_uri": "https://localhost:8080/"
        },
        "outputId": "3177e1c4-af73-4d78-cca4-92f3614fa4dc"
      },
      "source": [
        "from lxml import etree\n",
        "doc = etree.parse('/content/drive/MyDrive/Colab Notebooks/Corpus/tass_2017/Social-TV/socialtv-tweets-test.xml')\n",
        "raiz=doc.getroot()\n",
        "#print (raiz.tag)\n",
        "#print (len(raiz))\n",
        "tweet=raiz[1]\n",
        "print (tweet.text)\n",
        "print (tweet.attrib)\n",
        "print (tweet[0].text)\n",
        "for attr,value in tweet.items():\n",
        "  print (attr,value)\n",
        "print (tweet.get(\"sentiment\"))"
      ],
      "execution_count": null,
      "outputs": [
        {
          "output_type": "stream",
          "text": [
            "El \n",
            "{'id': '456544890499760129'}\n",
            "Barça\n",
            "id 456544890499760129\n",
            "None\n"
          ],
          "name": "stdout"
        }
      ]
    },
    {
      "cell_type": "code",
      "metadata": {
        "id": "dFfF5Jzvzvx8",
        "colab": {
          "base_uri": "https://localhost:8080/"
        },
        "outputId": "90cb19b5-e52d-4810-ea23-1becb8bc582b"
      },
      "source": [
        "from xml.dom import minidom\n",
        "def social_tv_to_list(filename):\n",
        "  xmldoc = minidom.parse(filename)\n",
        "  tweetlist = xmldoc.getElementsByTagName('tweet')\n",
        "  print(len(tweetlist))\n",
        "  print(tweetlist[0].attributes['id'].value)\n",
        "  sentimentlist = xmldoc.getElementsByTagName('sentiment')\n",
        "  print(sentimentlist[0].attributes['aspect'].value)\n",
        "\n",
        "social_tv_to_list(\"/content/drive/MyDrive/Colab Notebooks/Corpus/tass_2017/Social-TV/socialtv-tweets-test.xml\")"
      ],
      "execution_count": null,
      "outputs": [
        {
          "output_type": "stream",
          "text": [
            "1000\n",
            "456544890097131521\n",
            "Entrenador\n"
          ],
          "name": "stdout"
        }
      ]
    },
    {
      "cell_type": "markdown",
      "metadata": {
        "id": "8j9fNyqozyxg"
      },
      "source": [
        "Funcion para unir los tweets corpus general test con sus sentimientos"
      ]
    },
    {
      "cell_type": "code",
      "metadata": {
        "id": "XeghZN6ZzzZg"
      },
      "source": [
        "#Listar los id tweets | sentiment :P (Positivo) - N (Negativo) - NEU (NEUtro) - NONE (sin sentimiento)\n",
        "def gold_standard_to_dict(filename):\n",
        "  with open(filename, 'r') as csvfile:\n",
        "    reader = csv.reader(csvfile, delimiter='\\t')\n",
        "    data = {rows[0]: rows[1] for rows in reader}\n",
        "\n",
        "  return data"
      ],
      "execution_count": null,
      "outputs": []
    },
    {
      "cell_type": "markdown",
      "metadata": {
        "id": "Ik6HAAH4z17F"
      },
      "source": [
        "Función para separar el 100% del corpus entre: Train : 70% - Test: 30%"
      ]
    },
    {
      "cell_type": "code",
      "metadata": {
        "id": "0KyGqXHzz5sG"
      },
      "source": [
        "def generate_train_test_subsets(data, size):\n",
        "  codes = [d[0] for d in data]\n",
        "  labels = [d[2] for d in data]\n",
        "  codes_train, codes_test, labels_train, labels_test = train_test_split(codes, labels, train_size=size)\n",
        "  train_data = [d for d in data if d[0] in codes_train]\n",
        "  test_data = [d for d in data if d[0] in codes_test]\n",
        "  return train_data, test_data"
      ],
      "execution_count": null,
      "outputs": []
    },
    {
      "cell_type": "markdown",
      "metadata": {
        "id": "vj3P8dLiz9rf"
      },
      "source": [
        "Ejecutar cada funcion de parseo del corpus"
      ]
    },
    {
      "cell_type": "code",
      "metadata": {
        "id": "6ejenIv2z-IX"
      },
      "source": [
        "data = []\n",
        "\n",
        "#Parceamos el internacional TASS\n",
        "#tomamos el corpus internacional (test) y generamos una lista del ID del tweet y el sentimiento para agregarlo a la data\n",
        "qrel = gold_standard_to_dict(\"/content/drive/MyDrive/Colab Notebooks/Corpus/tass_2017/InterTASS/InterTASS_Test_res.qrel\")\n",
        "#como el test del corpus internacional esta sin los sentimientos es necesario agregarlos : qrel\n",
        "data.extend(intertass_tass_to_list(\"/content/drive/MyDrive/Colab Notebooks/Corpus/tass_2017/InterTASS/InterTASS_Test.xml\", qrel))\n",
        "data.extend(intertass_tass_to_list(\"/content/drive/MyDrive/Colab Notebooks/Corpus/tass_2017/InterTASS/InterTASS_development.xml\"))\n",
        "data.extend(intertass_tass_to_list(\"/content/drive/MyDrive/Colab Notebooks/Corpus/tass_2017/InterTASS/InterTASS_Training.xml\"))\n",
        "#Parceamos el General\n",
        "#NO-data.extend(DatasetHelper.general_tass_to_list(\"../datasets/tass_2017/InterTASS/general-test-tagged-3l.xml\"))\n",
        "#NO-data.extend(DatasetHelper.general_tass_to_list(\"../datasets/tass_2017/InterTASS/general-train-tagged-3l.xml\"))\n",
        "qrel = gold_standard_to_dict(\"/content/drive/MyDrive/Colab Notebooks/Corpus/tass_2017/General Corpus of TASS/general-sentiment-3l.qrel\")\n",
        "data.extend(general_tass_2017_to_list(\"/content/drive/MyDrive/Colab Notebooks/Corpus/tass_2017/General Corpus of TASS/general-tweets-test.xml\", qrel))\n",
        "#Parceamos el STOMPOL (politica)\n",
        "#data.extend(politics_tass_to_list(\"/content/drive/MyDrive/Colab Notebooks/Corpus/tass_2014/politics-test-tagged.xml\"))\n",
        "#separamos la data en train = 70%  | test = 30#\n",
        "test, train  = generate_train_test_subsets(data, size=0.3)\n",
        "list_to_csv(data,\"/content/dataset_2017_full.csv\")\n",
        "list_to_csv(train, '/content/dataset_2017_train.csv')\n",
        "list_to_csv(test, '/content/dataset_2017_test.csv')"
      ],
      "execution_count": null,
      "outputs": []
    },
    {
      "cell_type": "markdown",
      "metadata": {
        "id": "8S9iGsfj0Cni"
      },
      "source": [
        "# Pre-procesamiento del corpus"
      ]
    },
    {
      "cell_type": "markdown",
      "metadata": {
        "id": "4JjGYC480F1M"
      },
      "source": [
        "Cargar librerias\n",
        "\n"
      ]
    },
    {
      "cell_type": "code",
      "metadata": {
        "id": "Bjtfc9d20Kld"
      },
      "source": [
        "import re                                #operaciones regulares para la búsqueda y manipulación de cadenas\n",
        "from nltk import TweetTokenizer          #libreria para tokenizar\n",
        "from nltk.stem import SnowballStemmer    #algoritmo para clasificación de palabras\n",
        "#variables para mejorar la escritura (opcional)\n",
        "NORMALIZE = 'normalize'\n",
        "REMOVE = 'remove'\n",
        "MENTION = 'twmention'\n",
        "HASHTAG = 'twhashtag'\n",
        "URL = 'twurl'\n",
        "LAUGH = 'twlaugh'\n",
        "\n",
        "#definir que el algoritmo de clasificación use el idioma español\n",
        "_stemmer = SnowballStemmer('spanish')\n",
        "\n",
        "#definir una variable para la funcion de tokenizar (opcional)\n",
        "_tokenizer = TweetTokenizer().tokenize\n",
        "\n",
        "#variable para definir si quiero normalizar: normalize o eliminar: remove los hashtags, menciones y urls en los tweets\n",
        "_twitter_features=\"normalize\"\n",
        "#variable para definir si se desea tener convertir o no a la raiz de la palabra.\n",
        "_stemming=False"
      ],
      "execution_count": null,
      "outputs": []
    },
    {
      "cell_type": "markdown",
      "metadata": {
        "id": "sLP48ay90O4x"
      },
      "source": [
        "Funciones/metodos de preprocesamiento\n",
        "Quitar tildes y palabras coloquiales"
      ]
    },
    {
      "cell_type": "code",
      "metadata": {
        "id": "tyH7aRI90TNZ"
      },
      "source": [
        "#lista de conversión para quitar las tildes a las vocales.\n",
        "DIACRITICAL_VOWELS = [('á','a'), ('é','e'), ('í','i'), ('ó','o'), ('ú','u'), ('ü','u')]\n",
        "\n",
        "#lista para corregir algunas palabras coloquiales / jerga en español (obviamente faltan más)\n",
        "SLANG = [('d','de'), ('[qk]','que'), ('xo','pero'), ('xa', 'para'), ('[xp]q','porque'),('es[qk]', 'es que'),\n",
        "         ('fvr','favor'),('(xfa|xf|pf|plis|pls|porfa)', 'por favor'), ('dnd','donde'), ('tb', 'también'),\n",
        "         ('(tq|tk)', 'te quiero'), ('(tqm|tkm)', 'te quiero mucho'), ('x','por'), ('\\+','mas')]"
      ],
      "execution_count": null,
      "outputs": []
    },
    {
      "cell_type": "markdown",
      "metadata": {
        "id": "IduEM42d0Y77"
      },
      "source": [
        "Normalizacion de risa"
      ]
    },
    {
      "cell_type": "code",
      "metadata": {
        "id": "ZUO6uJoL0Zu8"
      },
      "source": [
        "#metodo para normalizar las risas\n",
        "def normalize_laughs(message):\n",
        "  message = re.sub(r'\\b(?=\\w*[j])[aeiouj]{4,}\\b', LAUGH, message, flags=re.IGNORECASE)\n",
        "  message = re.sub(r'\\b(?=\\w*[k])[aeiouk]{4,}\\b', LAUGH, message, flags=re.IGNORECASE)\n",
        "  message = re.sub(r'\\b(?=\\w*[h])[aeiouk]{4,}\\b', LAUGH, message, flags=re.IGNORECASE)\n",
        "  message = re.sub(r'\\b(juas+|lol)\\b', LAUGH, message, flags=re.IGNORECASE)\n",
        "  return message"
      ],
      "execution_count": null,
      "outputs": []
    },
    {
      "cell_type": "code",
      "metadata": {
        "id": "xB4IWP-z0dQw",
        "colab": {
          "base_uri": "https://localhost:8080/"
        },
        "outputId": "5705badb-7f40-4934-e42d-3b4baf6b90ea"
      },
      "source": [
        "print (normalize_laughs(\"esto muyy feliz jajajajaja o no tan feliz jejejejeje o mejor me rio a como papa noel JOJOJO o como en mileniams LOL  kakaka\"))"
      ],
      "execution_count": null,
      "outputs": [
        {
          "output_type": "stream",
          "text": [
            "esto muyy feliz twlaugh o no tan feliz twlaugh o mejor me rio a como papa noel twlaugh o como en mileniams twlaugh  twlaugh\n"
          ],
          "name": "stdout"
        }
      ]
    },
    {
      "cell_type": "markdown",
      "metadata": {
        "id": "U2kSuJzn0fyM"
      },
      "source": [
        "Función/método para eliminar o normalizar menciones, hashtags y URL de un mensaje (tweet)"
      ]
    },
    {
      "cell_type": "code",
      "metadata": {
        "id": "XpG1VIEe0gkv"
      },
      "source": [
        "def process_twitter_features(message, twitter_features):\n",
        "\n",
        "  message = re.sub(r'[\\.\\,]http','. http', message, flags=re.IGNORECASE)\n",
        "  message = re.sub(r'[\\.\\,]#', '. #', message)\n",
        "  message = re.sub(r'[\\.\\,]@', '. @', message)\n",
        "\n",
        "  if twitter_features == REMOVE:\n",
        "    # eliminar menciones, hashtags y URL\n",
        "    message = re.sub(r'((?<=\\s)|(?<=\\A))(@|#)\\S+', '', message)\n",
        "    message = re.sub(r'\\b(https?:\\S+)\\b', '', message, flags=re.IGNORECASE)\n",
        "  elif twitter_features == NORMALIZE:\n",
        "    # cuando sea necesario se normalizaran las menciones, hashtags y URL\n",
        "    message = re.sub(r'((?<=\\s)|(?<=\\A))@\\S+', MENTION, message)\n",
        "    message = re.sub(r'((?<=\\s)|(?<=\\A))#\\S+', HASHTAG, message)\n",
        "    message = re.sub(r'\\b(https?:\\S+)\\b', URL, message, flags=re.IGNORECASE)\n",
        "\n",
        "  return message"
      ],
      "execution_count": null,
      "outputs": []
    },
    {
      "cell_type": "markdown",
      "metadata": {
        "id": "Nlw8zfq_0m2k"
      },
      "source": [
        ""
      ]
    },
    {
      "cell_type": "code",
      "metadata": {
        "id": "H0X__AFe0l77",
        "colab": {
          "base_uri": "https://localhost:8080/"
        },
        "outputId": "da6e020b-2fce-4d37-eefb-497b35d9dce4"
      },
      "source": [
        "print(process_twitter_features(\"Rosell, una noche. Adivina quien!! http://t.co/PPAwijRX, jajajAja dime si NO ES DÍVERTIDÓÓ\",\"normalize\"))"
      ],
      "execution_count": null,
      "outputs": [
        {
          "output_type": "stream",
          "text": [
            "Rosell, una noche. Adivina quien!! twurl, jajajAja dime si NO ES DÍVERTIDÓÓ\n"
          ],
          "name": "stdout"
        }
      ]
    },
    {
      "cell_type": "markdown",
      "metadata": {
        "id": "k9A7MfmW0rzB"
      },
      "source": [
        "Función/método general para el preprocesamiento"
      ]
    },
    {
      "cell_type": "code",
      "metadata": {
        "id": "e4O8HgZG0umM"
      },
      "source": [
        "def preprocess(message):\n",
        "  # convertir a minusculas\n",
        "  message = message.lower()\n",
        "        \n",
        "  # eliminar números, retorno de linea y el tan odios retweet (de los viejos estilos de twitter)\n",
        "  message = re.sub(r'(\\d+|\\n|\\brt\\b)', '', message)\n",
        "        \n",
        "  # elimar vocales con signos diacríticos (posible ambigüedad)\n",
        "  for s,t in DIACRITICAL_VOWELS:\n",
        "    message = re.sub(r'{0}'.format(s), t, message)\n",
        "        \n",
        "  # eliminar caracteres repetidos \n",
        "  message = re.sub(r'(.)\\1{2,}', r'\\1\\1', message)\n",
        "       \n",
        "  # normalizar las risas\n",
        "  message = normalize_laughs(message)\n",
        "        \n",
        "  # traducir la jerga y terminos coloquiales sobre todo en el español\n",
        "  for s,t in SLANG:\n",
        "    message = re.sub(r'\\b{0}\\b'.format(s), t, message)\n",
        "\n",
        "  #normalizar/eliminar hashtags, menciones y URL\n",
        "  message = process_twitter_features(message, _twitter_features)\n",
        "\n",
        "  #Convertir las palabras a su raiz ( Bonita, bonito) -> bonit \n",
        "  if _stemming:\n",
        "    message = ' '.join(_stemmer.stem(w) for w in _tokenizer(message))\n",
        "\n",
        "  return message"
      ],
      "execution_count": null,
      "outputs": []
    },
    {
      "cell_type": "code",
      "metadata": {
        "id": "RFSIZ_PR0yv0",
        "colab": {
          "base_uri": "https://localhost:8080/"
        },
        "outputId": "51bb28cf-d328-497f-db43-345b0fa31b2d"
      },
      "source": [
        "print(preprocess(\"LOL!! muy graciosa esta paguina https://actualidadpanamericana.com :-) jajajaja muy buena\"))"
      ],
      "execution_count": null,
      "outputs": [
        {
          "output_type": "stream",
          "text": [
            "twlaugh!! muy graciosa esta paguina twurl :-) twlaugh muy buena\n"
          ],
          "name": "stdout"
        }
      ]
    },
    {
      "cell_type": "markdown",
      "metadata": {
        "id": "gTQGCVrB00Lk"
      },
      "source": [
        "Descargamos las librerias de NLTK"
      ]
    },
    {
      "cell_type": "code",
      "metadata": {
        "id": "3jGryjjy00vG",
        "colab": {
          "base_uri": "https://localhost:8080/"
        },
        "outputId": "5e315964-3d01-4d9d-b000-cdcfcd119de3"
      },
      "source": [
        "#Descargamos la libreria de stopwords\n",
        "import nltk\n",
        "nltk.download('stopwords')"
      ],
      "execution_count": null,
      "outputs": [
        {
          "output_type": "stream",
          "text": [
            "[nltk_data] Downloading package stopwords to /root/nltk_data...\n",
            "[nltk_data]   Unzipping corpora/stopwords.zip.\n"
          ],
          "name": "stdout"
        },
        {
          "output_type": "execute_result",
          "data": {
            "text/plain": [
              "True"
            ]
          },
          "metadata": {
            "tags": []
          },
          "execution_count": 42
        }
      ]
    },
    {
      "cell_type": "markdown",
      "metadata": {
        "id": "2W1vnlov1PYt"
      },
      "source": [
        "Cargar CSV del corpus de Drive"
      ]
    },
    {
      "cell_type": "code",
      "metadata": {
        "id": "OfprNxxM1Qzl",
        "colab": {
          "base_uri": "https://localhost:8080/"
        },
        "outputId": "34c5dc9c-5346-45bc-c2b1-8f4573e734cd"
      },
      "source": [
        "from google.colab import drive\n",
        "drive.mount('/content/drive')"
      ],
      "execution_count": null,
      "outputs": [
        {
          "output_type": "stream",
          "text": [
            "Drive already mounted at /content/drive; to attempt to forcibly remount, call drive.mount(\"/content/drive\", force_remount=True).\n"
          ],
          "name": "stdout"
        }
      ]
    },
    {
      "cell_type": "markdown",
      "metadata": {
        "id": "GIgxjgq-1TM3"
      },
      "source": [
        "Aplicamos preprocesamiento al CSV y creamos un nuevo CSV limpio"
      ]
    },
    {
      "cell_type": "code",
      "metadata": {
        "id": "l2wkKQ7Z1URD"
      },
      "source": [
        "import numpy as np\n",
        "import pandas as pd\n",
        "\n",
        "df = pd.read_csv('https://raw.githubusercontent.com/luisFernandoCastellanosG/Machine_learning/master/Analisis_sentimientos_Twitter/espanish/datasets/Corpus/dataset_2017_full.csv', encoding='utf-8')\n",
        "#asignamos nombres a las columnas del csv para facilitar la busqueda de información\n",
        "df.columns = ['tweetid', 'tweet','sentiment']\n",
        "#aplicamos el preprocesamiento a los tweets con steaming =false\n",
        "df['tweet'] = df['tweet'].apply(preprocess)\n",
        "#eliminamos la columna tweetid que no nos sirve para entrenar y si nos genera mas uso de memoria \n",
        "df = df.drop(columns=\"tweetid\")\n",
        "#Es mejor trabajar con valores enteros que con letras\n",
        "#por lo tanto reemplazaremos los sentimientos que estan como NONE->-1 | NEU -> 0 | P->1 | N->2\n",
        "df.loc[df['sentiment'] == 'NONE', 'sentiment'] = '-1'\n",
        "df.loc[df['sentiment'] == 'NEU', 'sentiment'] = '0'\n",
        "df.loc[df['sentiment'] == 'P', 'sentiment'] = '1'\n",
        "df.loc[df['sentiment'] == 'N', 'sentiment'] = '2'\n",
        "df[\"sentiment\"].unique()\n",
        "#guardamos el dataset en un nuvevo CSV para facilitar su posterior uso\n",
        "df.to_csv('/content/dataset_2017_full_clean.csv', index=False, encoding='utf-8')"
      ],
      "execution_count": null,
      "outputs": []
    },
    {
      "cell_type": "markdown",
      "metadata": {
        "id": "kY52gQ1S1ZTr"
      },
      "source": [
        "# Entrenando el modelo de aprendizaje"
      ]
    },
    {
      "cell_type": "markdown",
      "metadata": {
        "id": "MPXdUbUm1dQz"
      },
      "source": [
        "Funciones de tokenizar/extraer tweets"
      ]
    },
    {
      "cell_type": "code",
      "metadata": {
        "id": "s15w9veg1gB5",
        "colab": {
          "base_uri": "https://localhost:8080/"
        },
        "outputId": "08e8073f-f3b7-4331-a1eb-67074b36c63c"
      },
      "source": [
        "#p2.1: funcion tokenizar con esteroides --tokeniza y limpia--\n",
        "print(\"p2.1: funcion tokenizar con esteroides --tokeniza y limpia--\")\n",
        "def tokenizer(text):\n",
        "    text = re.sub('<[^>]*>', '', text)\n",
        "    emoticons = re.findall('(?::|;|=)(?:-)?(?:\\)|\\(|D|P)', text.lower())\n",
        "    text = re.sub('[\\W]+', ' ', text.lower()) +' '.join(emoticons).replace('-', '')\n",
        "    tokenized = [w for w in text.split() if w not in stop]\n",
        "    return tokenized\n",
        "#p2.2: funcion para extraer un documento del dataset  \n",
        "print(\"p2.2: funcion para extraer un documento del dataset  \")\n",
        "def stream_docs(path):\n",
        "    with open(path, 'r', encoding='utf-8') as csv:\n",
        "        next(csv)  # skip header\n",
        "        for line in csv:\n",
        "            text, label = line[:-3],  int(line[-2])\n",
        "            yield text, label\n",
        "#p2.3: funcion que tomara una secuencia de documentos y devolvera un número particular de documentos\n",
        "def get_minibatch(doc_stream, size):\n",
        "    docs, y = [], []\n",
        "    try:\n",
        "        for _ in range(size):\n",
        "            text, label = next(doc_stream)\n",
        "            docs.append(text)\n",
        "            y.append(label)\n",
        "    except StopIteration:\n",
        "        return None, None\n",
        "    return docs, y"
      ],
      "execution_count": null,
      "outputs": [
        {
          "output_type": "stream",
          "text": [
            "p2.1: funcion tokenizar con esteroides --tokeniza y limpia--\n",
            "p2.2: funcion para extraer un documento del dataset  \n"
          ],
          "name": "stdout"
        }
      ]
    },
    {
      "cell_type": "code",
      "metadata": {
        "id": "iPLZccTl1kip",
        "colab": {
          "base_uri": "https://localhost:8080/"
        },
        "outputId": "1a681f3d-0ece-4818-925e-d90dc8d64548"
      },
      "source": [
        "next(stream_docs(path='/content/dataset_2017_full_clean.csv'))"
      ],
      "execution_count": null,
      "outputs": [
        {
          "output_type": "execute_result",
          "data": {
            "text/plain": [
              "('twmention ya era hora de volver al csgo y dejares el padel bienvenida ', 1)"
            ]
          },
          "metadata": {
            "tags": []
          },
          "execution_count": 46
        }
      ]
    },
    {
      "cell_type": "markdown",
      "metadata": {
        "id": "26cycrxa1ozH"
      },
      "source": [
        "# Entrenamos el modelo con regresion lineal"
      ]
    },
    {
      "cell_type": "code",
      "metadata": {
        "id": "n1r-T7BC1qT9",
        "colab": {
          "base_uri": "https://localhost:8080/"
        },
        "outputId": "f1967d2a-3bbd-4924-e599-5b034e3c6add"
      },
      "source": [
        "path='/content/dataset_2017_full_clean.csv'\n",
        "#p2: definimos una versión liviana de CountVectorizer+TfidfVectorizer llamada HashingVectorizer\n",
        "from sklearn.feature_extraction.text import HashingVectorizer\n",
        "from sklearn.linear_model import SGDClassifier\n",
        "\n",
        "vect = HashingVectorizer(decode_error='ignore', \n",
        "                         n_features=2**21,\n",
        "                         preprocessor=None, \n",
        "                         tokenizer=tokenizer)\n",
        "\n",
        "#definimos como algoritmo la regressión logistica en el decenso gradiante \n",
        "\n",
        "clf = SGDClassifier(loss='log', random_state=1, max_iter=1)\n",
        "doc_stream = stream_docs(path)\n",
        "#p3. entrenamos \n",
        "import re\n",
        "import numpy as np\n",
        "#import pyprind\n",
        "from nltk.corpus import stopwords\n",
        "stop = stopwords.words('spanish')\n",
        "#pbar = pyprind.ProgBar(50)\n",
        "#definimos las clases con las cuales vamos a entrenar\n",
        "classes = np.array([-1,0, 1,2])\n",
        "#hacemos 50 repeticiones\n",
        "for _ in range(50):\n",
        "  #tomaremos grupos de 500 tweets para entrenar\n",
        "    X_train, y_train = get_minibatch(doc_stream, size=1000)\n",
        "    if not X_train:\n",
        "        break\n",
        "    X_train = vect.transform(X_train)\n",
        "    clf.partial_fit(X_train, y_train, classes=classes)\n",
        "    #pbar.update()\n",
        "#probamos la eficiencia del modelo con 5000 tweets .\n",
        "X_test, y_test = get_minibatch(doc_stream, size=5000)\n",
        "X_test = vect.transform(X_test)\n",
        "print('Presición del modelo: %.3f' % clf.score(X_test, y_test))\n",
        "#recalibramos el modelo.\n",
        "clf = clf.partial_fit(X_test, y_test)"
      ],
      "execution_count": null,
      "outputs": [
        {
          "output_type": "stream",
          "text": [
            "Presición del modelo: 0.806\n"
          ],
          "name": "stdout"
        }
      ]
    },
    {
      "cell_type": "markdown",
      "metadata": {
        "id": "De5l5pbH1wvL"
      },
      "source": [
        "Serializamos (congelamos) el modelo para usarlo fuera de google colab"
      ]
    },
    {
      "cell_type": "code",
      "metadata": {
        "id": "JIvxjiEe11JV"
      },
      "source": [
        "import pickle\n",
        "import os\n",
        "#creo una carpeta en mi google drive para guardar los archivos serializados\n",
        "dest = os.path.join('/content/twitterclassifier', 'pkl_objects')\n",
        "if not os.path.exists(dest):\n",
        "    os.makedirs(dest)\n",
        "#convertimos el clasificador y el stopword en archivo/objectos pkl\n",
        "pickle.dump(stop, open(os.path.join(dest, 'stopwords.pkl'), 'wb'), protocol=4)   \n",
        "pickle.dump(clf, open(os.path.join(dest, 'classifier.pkl'), 'wb'), protocol=4)\n",
        "#Es importante recordar que deben verificar que los dos archivos esten en su drive"
      ],
      "execution_count": null,
      "outputs": []
    },
    {
      "cell_type": "code",
      "metadata": {
        "id": "9KT9fLX4135u"
      },
      "source": [
        "import os\n",
        "os.chdir('/content/twitterclassifier')"
      ],
      "execution_count": null,
      "outputs": []
    },
    {
      "cell_type": "markdown",
      "metadata": {
        "id": "C-eGxYe015vu"
      },
      "source": [
        "Deserializar los estimadores"
      ]
    },
    {
      "cell_type": "code",
      "metadata": {
        "id": "pZvnuj3i16cq",
        "colab": {
          "base_uri": "https://localhost:8080/",
          "height": 346
        },
        "outputId": "5f6d20bb-f4e5-4724-d597-ec672743a249"
      },
      "source": [
        "import pickle\n",
        "import re\n",
        "import os\n",
        "from vectorizer import vect  # archivo vectorizer.py \n",
        "clf = pickle.load(open(os.path.join('/content/twitterclassifier/pkl_objects', 'classifier.pkl'), 'rb'))"
      ],
      "execution_count": null,
      "outputs": [
        {
          "output_type": "error",
          "ename": "ModuleNotFoundError",
          "evalue": "ignored",
          "traceback": [
            "\u001b[0;31m---------------------------------------------------------------------------\u001b[0m",
            "\u001b[0;31mModuleNotFoundError\u001b[0m                       Traceback (most recent call last)",
            "\u001b[0;32m<ipython-input-51-de541f41b5c5>\u001b[0m in \u001b[0;36m<module>\u001b[0;34m()\u001b[0m\n\u001b[1;32m      2\u001b[0m \u001b[0;32mimport\u001b[0m \u001b[0mre\u001b[0m\u001b[0;34m\u001b[0m\u001b[0;34m\u001b[0m\u001b[0m\n\u001b[1;32m      3\u001b[0m \u001b[0;32mimport\u001b[0m \u001b[0mos\u001b[0m\u001b[0;34m\u001b[0m\u001b[0;34m\u001b[0m\u001b[0m\n\u001b[0;32m----> 4\u001b[0;31m \u001b[0;32mfrom\u001b[0m \u001b[0mvectorizer\u001b[0m \u001b[0;32mimport\u001b[0m \u001b[0mvect\u001b[0m  \u001b[0;31m# archivo vectorizer.py\u001b[0m\u001b[0;34m\u001b[0m\u001b[0;34m\u001b[0m\u001b[0m\n\u001b[0m\u001b[1;32m      5\u001b[0m \u001b[0mclf\u001b[0m \u001b[0;34m=\u001b[0m \u001b[0mpickle\u001b[0m\u001b[0;34m.\u001b[0m\u001b[0mload\u001b[0m\u001b[0;34m(\u001b[0m\u001b[0mopen\u001b[0m\u001b[0;34m(\u001b[0m\u001b[0mos\u001b[0m\u001b[0;34m.\u001b[0m\u001b[0mpath\u001b[0m\u001b[0;34m.\u001b[0m\u001b[0mjoin\u001b[0m\u001b[0;34m(\u001b[0m\u001b[0;34m'/content/twitterclassifier/pkl_objects'\u001b[0m\u001b[0;34m,\u001b[0m \u001b[0;34m'classifier.pkl'\u001b[0m\u001b[0;34m)\u001b[0m\u001b[0;34m,\u001b[0m \u001b[0;34m'rb'\u001b[0m\u001b[0;34m)\u001b[0m\u001b[0;34m)\u001b[0m\u001b[0;34m\u001b[0m\u001b[0;34m\u001b[0m\u001b[0m\n",
            "\u001b[0;31mModuleNotFoundError\u001b[0m: No module named 'vectorizer'",
            "",
            "\u001b[0;31m---------------------------------------------------------------------------\u001b[0;32m\nNOTE: If your import is failing due to a missing package, you can\nmanually install dependencies using either !pip or !apt.\n\nTo view examples of installing some common dependencies, click the\n\"Open Examples\" button below.\n\u001b[0;31m---------------------------------------------------------------------------\u001b[0m\n"
          ]
        }
      ]
    },
    {
      "cell_type": "markdown",
      "metadata": {
        "id": "blTzJQGc1_8N"
      },
      "source": [
        "Clasificar un texto"
      ]
    },
    {
      "cell_type": "code",
      "metadata": {
        "id": "iK24Iz9_2BtG",
        "colab": {
          "base_uri": "https://localhost:8080/"
        },
        "outputId": "86f485b8-7360-4ac7-df80-cc81c21fa5a6"
      },
      "source": [
        "import numpy as np\n",
        "#NONE->-1 | NEU -> 0 | P->1 | N->2\n",
        "label = {-1:'Sin sentimiento', 0:'Neutro', 1:'Positivo',2: 'Negativo'}\n",
        "\n",
        "#example = ['Te odio más que a la muerte']\n",
        "example1 = 'Odio mi vida hasta morir'\n",
        "example = [example1]\n",
        "#convertimos el texto en un vector de palabras y extraemos sus caracteristicas https://scikit-learn.org/stable/modules/feature_extraction.html\n",
        "textConvert = vect.transform(example)  \n",
        "print('*Predicción: %s\\n*Probabilidad: %.2f%%'%(label[clf.predict(textConvert)[0]], np.max(clf.predict_proba(textConvert))*100))\n",
        "print('*Predicción: %s'%label[clf.predict(textConvert)[0]])\n",
        "print(np.max(clf.predict_proba(textConvert))*100)"
      ],
      "execution_count": null,
      "outputs": [
        {
          "output_type": "stream",
          "text": [
            "*Predicción: Negativo\n",
            "*Probabilidad: 49.19%\n",
            "*Predicción: Negativo\n",
            "49.186713386923984\n"
          ],
          "name": "stdout"
        }
      ]
    },
    {
      "cell_type": "markdown",
      "metadata": {
        "id": "LG-7hA-32Fi5"
      },
      "source": [
        "Recorrer los tweets descargados"
      ]
    },
    {
      "cell_type": "code",
      "metadata": {
        "id": "QcwcUe5e2F_8",
        "colab": {
          "base_uri": "https://localhost:8080/",
          "height": 807
        },
        "outputId": "03d55706-e555-4a02-c70b-91a1561cd88e"
      },
      "source": [
        "import numpy as np\n",
        "import pandas as pd\n",
        "\n",
        "df = pd.read_csv('/content/drive/MyDrive/Colab Notebooks/DataTwitter/intentando_tweets.csv', encoding='utf-8')\n",
        "#creamos una columna llamada Sentimient donde guardaremos la predicción\n",
        "df['sentiment'] =''\n",
        "#creamos una columna llamada Probability donde guardaremos la acertabilidad que dio el clasificador\n",
        "df['probability']=0\n",
        "#conversión de sentimientos (numeros a palabras)= NONE->-1 | NEU -> 0 | P->1 | N->2\n",
        "label = {-1:'Sin sentimiento', 0:'Neutro', 1:'Positivo',2: 'Negativo'}\n",
        "for rowid in range(len(df.index)):\n",
        "  text=df['text'][rowid]\n",
        "  textConvert = vect.transform([text]) \n",
        "  df['sentiment'][rowid]=label[clf.predict(textConvert)[0]]\n",
        "  df['probability'][rowid]=np.max(clf.predict_proba(textConvert))*100\n",
        "df.head(20)"
      ],
      "execution_count": null,
      "outputs": [
        {
          "output_type": "stream",
          "text": [
            "/usr/local/lib/python3.7/dist-packages/ipykernel_launcher.py:14: SettingWithCopyWarning: \n",
            "A value is trying to be set on a copy of a slice from a DataFrame\n",
            "\n",
            "See the caveats in the documentation: https://pandas.pydata.org/pandas-docs/stable/user_guide/indexing.html#returning-a-view-versus-a-copy\n",
            "  \n",
            "/usr/local/lib/python3.7/dist-packages/ipykernel_launcher.py:15: SettingWithCopyWarning: \n",
            "A value is trying to be set on a copy of a slice from a DataFrame\n",
            "\n",
            "See the caveats in the documentation: https://pandas.pydata.org/pandas-docs/stable/user_guide/indexing.html#returning-a-view-versus-a-copy\n",
            "  from ipykernel import kernelapp as app\n"
          ],
          "name": "stderr"
        },
        {
          "output_type": "execute_result",
          "data": {
            "text/html": [
              "<div>\n",
              "<style scoped>\n",
              "    .dataframe tbody tr th:only-of-type {\n",
              "        vertical-align: middle;\n",
              "    }\n",
              "\n",
              "    .dataframe tbody tr th {\n",
              "        vertical-align: top;\n",
              "    }\n",
              "\n",
              "    .dataframe thead th {\n",
              "        text-align: right;\n",
              "    }\n",
              "</style>\n",
              "<table border=\"1\" class=\"dataframe\">\n",
              "  <thead>\n",
              "    <tr style=\"text-align: right;\">\n",
              "      <th></th>\n",
              "      <th>user</th>\n",
              "      <th>location</th>\n",
              "      <th>text</th>\n",
              "      <th>sentiment</th>\n",
              "      <th>probability</th>\n",
              "    </tr>\n",
              "  </thead>\n",
              "  <tbody>\n",
              "    <tr>\n",
              "      <th>0</th>\n",
              "      <td>ALFONSOTEJADARO</td>\n",
              "      <td>Ciudadano del Mundo</td>\n",
              "      <td>#CIDHEnColombia necesitamos saber de la suerte...</td>\n",
              "      <td>Positivo</td>\n",
              "      <td>73</td>\n",
              "    </tr>\n",
              "    <tr>\n",
              "      <th>1</th>\n",
              "      <td>SimonBolivaryP1</td>\n",
              "      <td>NaN</td>\n",
              "      <td>Necesitamos la #CIDHEnColombia , nos están mat...</td>\n",
              "      <td>Positivo</td>\n",
              "      <td>63</td>\n",
              "    </tr>\n",
              "    <tr>\n",
              "      <th>2</th>\n",
              "      <td>mcristinafari</td>\n",
              "      <td>NaN</td>\n",
              "      <td>@NoticiasMasCol #SOSColombiaDDHH\\n#SOSColombia...</td>\n",
              "      <td>Positivo</td>\n",
              "      <td>91</td>\n",
              "    </tr>\n",
              "    <tr>\n",
              "      <th>3</th>\n",
              "      <td>MariaMa17238343</td>\n",
              "      <td>Medellín, Colombia</td>\n",
              "      <td>Alguien que respeta a ese señor o es un idiota...</td>\n",
              "      <td>Positivo</td>\n",
              "      <td>57</td>\n",
              "    </tr>\n",
              "    <tr>\n",
              "      <th>4</th>\n",
              "      <td>Adrgpz1</td>\n",
              "      <td>NaN</td>\n",
              "      <td>#CIDHEnColombia para que eviten el adoctrinami...</td>\n",
              "      <td>Positivo</td>\n",
              "      <td>63</td>\n",
              "    </tr>\n",
              "    <tr>\n",
              "      <th>5</th>\n",
              "      <td>angelicacb0</td>\n",
              "      <td>no where</td>\n",
              "      <td>@IvanDuque escuche a la ciudadanía (y no hable...</td>\n",
              "      <td>Positivo</td>\n",
              "      <td>68</td>\n",
              "    </tr>\n",
              "    <tr>\n",
              "      <th>6</th>\n",
              "      <td>OsitaMayo2</td>\n",
              "      <td>Colombia</td>\n",
              "      <td>¡Colombianos, pido no dejar morir esta tendenc...</td>\n",
              "      <td>Positivo</td>\n",
              "      <td>54</td>\n",
              "    </tr>\n",
              "    <tr>\n",
              "      <th>7</th>\n",
              "      <td>249Evelio</td>\n",
              "      <td>NaN</td>\n",
              "      <td>#CIDHEnColombia . todos los entes de control e...</td>\n",
              "      <td>Positivo</td>\n",
              "      <td>60</td>\n",
              "    </tr>\n",
              "    <tr>\n",
              "      <th>8</th>\n",
              "      <td>SantiagOrtizLav</td>\n",
              "      <td>Bogotá, Colombia</td>\n",
              "      <td>La sensatez, decencia, liderazgo e inteligenci...</td>\n",
              "      <td>Positivo</td>\n",
              "      <td>66</td>\n",
              "    </tr>\n",
              "    <tr>\n",
              "      <th>9</th>\n",
              "      <td>Blackesar</td>\n",
              "      <td>Bogota, Colombia</td>\n",
              "      <td>#CIDHEnColombia\\nDÓNDE ESTAN LOS DESAPARECIDOS...</td>\n",
              "      <td>Negativo</td>\n",
              "      <td>48</td>\n",
              "    </tr>\n",
              "    <tr>\n",
              "      <th>10</th>\n",
              "      <td>alvarez_roja13</td>\n",
              "      <td>West New York, NJ</td>\n",
              "      <td>@Nessnio Miren lo q esta pasando en esta dicta...</td>\n",
              "      <td>Positivo</td>\n",
              "      <td>61</td>\n",
              "    </tr>\n",
              "    <tr>\n",
              "      <th>11</th>\n",
              "      <td>BarriosDency</td>\n",
              "      <td>NaN</td>\n",
              "      <td>Los marchantes los están esperando #CIDHEnColo...</td>\n",
              "      <td>Positivo</td>\n",
              "      <td>61</td>\n",
              "    </tr>\n",
              "    <tr>\n",
              "      <th>12</th>\n",
              "      <td>diego781012</td>\n",
              "      <td>NaN</td>\n",
              "      <td>¿A los cuantos muertos y desaparecidos los van...</td>\n",
              "      <td>Negativo</td>\n",
              "      <td>60</td>\n",
              "    </tr>\n",
              "    <tr>\n",
              "      <th>13</th>\n",
              "      <td>nashiraporras</td>\n",
              "      <td>Bogotá, D.C., Colombia</td>\n",
              "      <td>Totalmente de acuerdo\\n#ParoNacional21M #Esmad...</td>\n",
              "      <td>Positivo</td>\n",
              "      <td>65</td>\n",
              "    </tr>\n",
              "    <tr>\n",
              "      <th>14</th>\n",
              "      <td>MOLIPES_MOV</td>\n",
              "      <td>NaN</td>\n",
              "      <td>Deberíamos dejar de pagar impuestos para NO so...</td>\n",
              "      <td>Negativo</td>\n",
              "      <td>53</td>\n",
              "    </tr>\n",
              "    <tr>\n",
              "      <th>15</th>\n",
              "      <td>Reverend8408</td>\n",
              "      <td>En el cora</td>\n",
              "      <td>Duque no quiere que venga derechos humanos por...</td>\n",
              "      <td>Negativo</td>\n",
              "      <td>48</td>\n",
              "    </tr>\n",
              "    <tr>\n",
              "      <th>16</th>\n",
              "      <td>Medusavie</td>\n",
              "      <td>NaN</td>\n",
              "      <td>Todo todoooo 🕵🏼‍♀🕵🏼‍♂\\n#CIDHEnColombia https:/...</td>\n",
              "      <td>Positivo</td>\n",
              "      <td>66</td>\n",
              "    </tr>\n",
              "    <tr>\n",
              "      <th>17</th>\n",
              "      <td>Lis01982742</td>\n",
              "      <td>NaN</td>\n",
              "      <td>@CamiOsorioTenis @juanchoGuzmannn Nos están ma...</td>\n",
              "      <td>Positivo</td>\n",
              "      <td>63</td>\n",
              "    </tr>\n",
              "    <tr>\n",
              "      <th>18</th>\n",
              "      <td>carolin78182317</td>\n",
              "      <td>NaN</td>\n",
              "      <td>Ayuda  #CIDHEnColombia</td>\n",
              "      <td>Positivo</td>\n",
              "      <td>67</td>\n",
              "    </tr>\n",
              "    <tr>\n",
              "      <th>19</th>\n",
              "      <td>damsabe</td>\n",
              "      <td>Colombia</td>\n",
              "      <td>tanto que critico el partido de gobierno  la r...</td>\n",
              "      <td>Positivo</td>\n",
              "      <td>61</td>\n",
              "    </tr>\n",
              "  </tbody>\n",
              "</table>\n",
              "</div>"
            ],
            "text/plain": [
              "               user                location  ... sentiment probability\n",
              "0   ALFONSOTEJADARO     Ciudadano del Mundo  ...  Positivo          73\n",
              "1   SimonBolivaryP1                     NaN  ...  Positivo          63\n",
              "2     mcristinafari                     NaN  ...  Positivo          91\n",
              "3   MariaMa17238343      Medellín, Colombia  ...  Positivo          57\n",
              "4           Adrgpz1                     NaN  ...  Positivo          63\n",
              "5       angelicacb0                no where  ...  Positivo          68\n",
              "6        OsitaMayo2                Colombia  ...  Positivo          54\n",
              "7         249Evelio                     NaN  ...  Positivo          60\n",
              "8   SantiagOrtizLav        Bogotá, Colombia  ...  Positivo          66\n",
              "9         Blackesar        Bogota, Colombia  ...  Negativo          48\n",
              "10   alvarez_roja13       West New York, NJ  ...  Positivo          61\n",
              "11     BarriosDency                     NaN  ...  Positivo          61\n",
              "12      diego781012                     NaN  ...  Negativo          60\n",
              "13    nashiraporras  Bogotá, D.C., Colombia  ...  Positivo          65\n",
              "14      MOLIPES_MOV                     NaN  ...  Negativo          53\n",
              "15     Reverend8408              En el cora  ...  Negativo          48\n",
              "16        Medusavie                     NaN  ...  Positivo          66\n",
              "17      Lis01982742                     NaN  ...  Positivo          63\n",
              "18  carolin78182317                     NaN  ...  Positivo          67\n",
              "19          damsabe                Colombia  ...  Positivo          61\n",
              "\n",
              "[20 rows x 5 columns]"
            ]
          },
          "metadata": {
            "tags": []
          },
          "execution_count": 54
        }
      ]
    },
    {
      "cell_type": "code",
      "metadata": {
        "id": "Ns4ymg5P2Lrb"
      },
      "source": [
        "df.to_csv('/content/che_data_sentiment.csv', index=False, encoding='utf-8')"
      ],
      "execution_count": null,
      "outputs": []
    },
    {
      "cell_type": "code",
      "metadata": {
        "id": "gADiPnnD2OF1"
      },
      "source": [
        "#segunda forma de ejecutar el analisis (metodos)\n",
        "def f_prediction(row):\n",
        "  text=row['text']\n",
        "  textConvert = vect.transform([text]) \n",
        "  return label[clf.predict(textConvert)[0]]\n",
        "\n",
        "def f_probability(row):\n",
        "  text=row['text']\n",
        "  textConvert = vect.transform([text]) \n",
        "  return np.max(clf.predict_proba(textConvert))*100\n",
        "\n",
        "df[\"sentiment\"] = df.apply(f_prediction, axis=1) # recorriendo columnas\n",
        "df[\"probability\"] = df.apply(f_probability, axis=1) # recorriendo columnas"
      ],
      "execution_count": null,
      "outputs": []
    },
    {
      "cell_type": "code",
      "metadata": {
        "id": "NUtXGS0-2Q6_",
        "colab": {
          "base_uri": "https://localhost:8080/",
          "height": 382
        },
        "outputId": "cdf09105-d882-437b-9a11-c77e28cb7abe"
      },
      "source": [
        "import matplotlib.pyplot as plt\n",
        "#sentimientos = df[\"sentiment\"].unique()\n",
        "df.groupby('sentiment')['location'].nunique().plot(kind='bar')\n",
        "print(df.groupby(['sentiment']).size())\n",
        "#df.groupby(['sentiment']).size().unstack().plot(kind='bar',stacked=True)\n",
        "plt.show()"
      ],
      "execution_count": null,
      "outputs": [
        {
          "output_type": "stream",
          "text": [
            "sentiment\n",
            "Negativo     278\n",
            "Positivo    2303\n",
            "dtype: int64\n"
          ],
          "name": "stdout"
        },
        {
          "output_type": "display_data",
          "data": {
            "image/png": "[encoded data removed]",
            "text/plain": [
              "<Figure size 432x288 with 1 Axes>"
            ]
          },
          "metadata": {
            "tags": [],
            "needs_background": "light"
          }
        }
      ]
    },
    {
      "cell_type": "code",
      "metadata": {
        "id": "2cjKhPF82Tdo",
        "colab": {
          "base_uri": "https://localhost:8080/"
        },
        "outputId": "c12ba8e4-6bd6-4bbd-9e8f-3ae9516c09c5"
      },
      "source": [
        "df.info()"
      ],
      "execution_count": null,
      "outputs": [
        {
          "output_type": "stream",
          "text": [
            "<class 'pandas.core.frame.DataFrame'>\n",
            "RangeIndex: 2581 entries, 0 to 2580\n",
            "Data columns (total 5 columns):\n",
            " #   Column       Non-Null Count  Dtype  \n",
            "---  ------       --------------  -----  \n",
            " 0   user         2581 non-null   object \n",
            " 1   location     1309 non-null   object \n",
            " 2   text         2581 non-null   object \n",
            " 3   sentiment    2581 non-null   object \n",
            " 4   probability  2581 non-null   float64\n",
            "dtypes: float64(1), object(4)\n",
            "memory usage: 100.9+ KB\n"
          ],
          "name": "stdout"
        }
      ]
    }
  ]
}